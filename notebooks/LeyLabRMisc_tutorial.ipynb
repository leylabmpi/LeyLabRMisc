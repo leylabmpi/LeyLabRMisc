{
 "cells": [
  {
   "cell_type": "markdown",
   "metadata": {
    "toc": true
   },
   "source": [
    "<h1>Table of Contents<span class=\"tocSkip\"></span></h1>\n",
    "<div class=\"toc\"><ul class=\"toc-item\"><li><span><a href=\"#Installing-LeyLabRMisc-R-package-with-renv\" data-toc-modified-id=\"Installing-LeyLabRMisc-R-package-with-renv-1\"><span class=\"toc-item-num\">1&nbsp;&nbsp;</span>Installing LeyLabRMisc R package with renv</a></span></li><li><span><a href=\"#Init\" data-toc-modified-id=\"Init-2\"><span class=\"toc-item-num\">2&nbsp;&nbsp;</span>Init</a></span></li><li><span><a href=\"#Init\" data-toc-modified-id=\"Init-3\"><span class=\"toc-item-num\">3&nbsp;&nbsp;</span>Init</a></span><ul class=\"toc-item\"><li><span><a href=\"#df.dims()\" data-toc-modified-id=\"df.dims()-3.1\"><span class=\"toc-item-num\">3.1&nbsp;&nbsp;</span>df.dims()</a></span></li><li><span><a href=\"#as.Num()\" data-toc-modified-id=\"as.Num()-3.2\"><span class=\"toc-item-num\">3.2&nbsp;&nbsp;</span>as.Num()</a></span></li><li><span><a href=\"#summary_x()\" data-toc-modified-id=\"summary_x()-3.3\"><span class=\"toc-item-num\">3.3&nbsp;&nbsp;</span>summary_x()</a></span></li><li><span><a href=\"#unique_n()\" data-toc-modified-id=\"unique_n()-3.4\"><span class=\"toc-item-num\">3.4&nbsp;&nbsp;</span>unique_n()</a></span></li><li><span><a href=\"#overlap()\" data-toc-modified-id=\"overlap()-3.5\"><span class=\"toc-item-num\">3.5&nbsp;&nbsp;</span>overlap()</a></span></li></ul></li><li><span><a href=\"#IO\" data-toc-modified-id=\"IO-4\"><span class=\"toc-item-num\">4&nbsp;&nbsp;</span>IO</a></span><ul class=\"toc-item\"><li><span><a href=\"#list_files()\" data-toc-modified-id=\"list_files()-4.1\"><span class=\"toc-item-num\">4.1&nbsp;&nbsp;</span>list_files()</a></span></li><li><span><a href=\"#make_dir()\" data-toc-modified-id=\"make_dir()-4.2\"><span class=\"toc-item-num\">4.2&nbsp;&nbsp;</span>make_dir()</a></span></li><li><span><a href=\"#write_table()\" data-toc-modified-id=\"write_table()-4.3\"><span class=\"toc-item-num\">4.3&nbsp;&nbsp;</span>write_table()</a></span></li><li><span><a href=\"#Fread()\" data-toc-modified-id=\"Fread()-4.4\"><span class=\"toc-item-num\">4.4&nbsp;&nbsp;</span>Fread()</a></span></li></ul></li><li><span><a href=\"#Plot\" data-toc-modified-id=\"Plot-5\"><span class=\"toc-item-num\">5&nbsp;&nbsp;</span>Plot</a></span><ul class=\"toc-item\"><li><span><a href=\"#p.dims()\" data-toc-modified-id=\"p.dims()-5.1\"><span class=\"toc-item-num\">5.1&nbsp;&nbsp;</span>p.dims()</a></span></li><li><span><a href=\"#Plot()\" data-toc-modified-id=\"Plot()-5.2\"><span class=\"toc-item-num\">5.2&nbsp;&nbsp;</span>Plot()</a></span></li></ul></li><li><span><a href=\"#System\" data-toc-modified-id=\"System-6\"><span class=\"toc-item-num\">6&nbsp;&nbsp;</span>System</a></span><ul class=\"toc-item\"><li><span><a href=\"#bash_job()\" data-toc-modified-id=\"bash_job()-6.1\"><span class=\"toc-item-num\">6.1&nbsp;&nbsp;</span>bash_job()</a></span></li><li><span><a href=\"#cat_file()\" data-toc-modified-id=\"cat_file()-6.2\"><span class=\"toc-item-num\">6.2&nbsp;&nbsp;</span>cat_file()</a></span></li><li><span><a href=\"#send_email()\" data-toc-modified-id=\"send_email()-6.3\"><span class=\"toc-item-num\">6.3&nbsp;&nbsp;</span>send_email()</a></span></li><li><span><a href=\"#conda_info()\" data-toc-modified-id=\"conda_info()-6.4\"><span class=\"toc-item-num\">6.4&nbsp;&nbsp;</span>conda_info()</a></span></li><li><span><a href=\"#pipelineInfo\" data-toc-modified-id=\"pipelineInfo-6.5\"><span class=\"toc-item-num\">6.5&nbsp;&nbsp;</span>pipelineInfo</a></span></li></ul></li><li><span><a href=\"#sessionInfo\" data-toc-modified-id=\"sessionInfo-7\"><span class=\"toc-item-num\">7&nbsp;&nbsp;</span>sessionInfo</a></span></li></ul></div>"
   ]
  },
  {
   "cell_type": "markdown",
   "metadata": {},
   "source": [
    "# Installing LeyLabRMisc R package with renv\n",
    "\n",
    "```\n",
    "conda activate /path/to/my/conda/env/\n",
    "R\n",
    "> renv::install('leylabmpi/LeyLabRMisc')\n",
    "```"
   ]
  },
  {
   "cell_type": "markdown",
   "metadata": {},
   "source": [
    "# Init"
   ]
  },
  {
   "cell_type": "code",
   "execution_count": 1,
   "metadata": {
    "ExecuteTime": {
     "end_time": "2020-03-27T19:50:30.283126Z",
     "start_time": "2020-03-27T19:50:27.172Z"
    }
   },
   "outputs": [
    {
     "name": "stderr",
     "output_type": "stream",
     "text": [
      "\n",
      "Attaching package: ‘dplyr’\n",
      "\n",
      "\n",
      "The following objects are masked from ‘package:stats’:\n",
      "\n",
      "    filter, lag\n",
      "\n",
      "\n",
      "The following objects are masked from ‘package:base’:\n",
      "\n",
      "    intersect, setdiff, setequal, union\n",
      "\n",
      "\n",
      "\n",
      "Attaching package: ‘data.table’\n",
      "\n",
      "\n",
      "The following objects are masked from ‘package:dplyr’:\n",
      "\n",
      "    between, first, last\n",
      "\n",
      "\n",
      "\n",
      "Attaching package: ‘tidytable’\n",
      "\n",
      "\n",
      "The following object is masked from ‘package:stats’:\n",
      "\n",
      "    dt\n",
      "\n",
      "\n"
     ]
    }
   ],
   "source": [
    "# load libraries\n",
    "library(dplyr)\n",
    "library(tidyr)\n",
    "library(ggplot2)\n",
    "library(data.table)\n",
    "library(tidytable)\n",
    "library(LeyLabRMisc)"
   ]
  },
  {
   "cell_type": "code",
   "execution_count": 2,
   "metadata": {
    "ExecuteTime": {
     "end_time": "2020-03-27T19:50:30.552847Z",
     "start_time": "2020-03-27T19:50:27.177Z"
    }
   },
   "outputs": [],
   "source": [
    "# init params\n",
    "## setting threads for data.tables\n",
    "setDTthreads(4)\n",
    "## formatting table printing\n",
    "df.dims()"
   ]
  },
  {
   "cell_type": "markdown",
   "metadata": {},
   "source": [
    "# Init\n",
    "\n",
    "* basic convenience functions"
   ]
  },
  {
   "cell_type": "markdown",
   "metadata": {},
   "source": [
    "## df.dims()\n",
    "\n",
    "* formatting table printing"
   ]
  },
  {
   "cell_type": "code",
   "execution_count": 3,
   "metadata": {
    "ExecuteTime": {
     "end_time": "2020-03-27T19:50:30.595950Z",
     "start_time": "2020-03-27T19:50:27.181Z"
    }
   },
   "outputs": [
    {
     "data": {
      "text/html": [
       "<table>\n",
       "<caption>A data.frame: 32 × 11</caption>\n",
       "<thead>\n",
       "\t<tr><th></th><th scope=col>mpg</th><th scope=col>cyl</th><th scope=col>disp</th><th scope=col>hp</th><th scope=col>drat</th><th scope=col>wt</th><th scope=col>qsec</th><th scope=col>vs</th><th scope=col>am</th><th scope=col>gear</th><th scope=col>carb</th></tr>\n",
       "\t<tr><th></th><th scope=col>&lt;dbl&gt;</th><th scope=col>&lt;dbl&gt;</th><th scope=col>&lt;dbl&gt;</th><th scope=col>&lt;dbl&gt;</th><th scope=col>&lt;dbl&gt;</th><th scope=col>&lt;dbl&gt;</th><th scope=col>&lt;dbl&gt;</th><th scope=col>&lt;dbl&gt;</th><th scope=col>&lt;dbl&gt;</th><th scope=col>&lt;dbl&gt;</th><th scope=col>&lt;dbl&gt;</th></tr>\n",
       "</thead>\n",
       "<tbody>\n",
       "\t<tr><th scope=row>Mazda RX4</th><td>21</td><td>6</td><td>160</td><td>110</td><td>3.9</td><td>2.620</td><td>16.46</td><td>0</td><td>1</td><td>4</td><td>4</td></tr>\n",
       "\t<tr><th scope=row>Mazda RX4 Wag</th><td>21</td><td>6</td><td>160</td><td>110</td><td>3.9</td><td>2.875</td><td>17.02</td><td>0</td><td>1</td><td>4</td><td>4</td></tr>\n",
       "\t<tr><th scope=row>⋮</th><td>⋮</td><td>⋮</td><td>⋮</td><td>⋮</td><td>⋮</td><td>⋮</td><td>⋮</td><td>⋮</td><td>⋮</td><td>⋮</td><td>⋮</td></tr>\n",
       "\t<tr><th scope=row>Maserati Bora</th><td>15.0</td><td>8</td><td>301</td><td>335</td><td>3.54</td><td>3.57</td><td>14.6</td><td>0</td><td>1</td><td>5</td><td>8</td></tr>\n",
       "\t<tr><th scope=row>Volvo 142E</th><td>21.4</td><td>4</td><td>121</td><td>109</td><td>4.11</td><td>2.78</td><td>18.6</td><td>1</td><td>1</td><td>4</td><td>2</td></tr>\n",
       "</tbody>\n",
       "</table>\n"
      ],
      "text/latex": [
       "A data.frame: 32 × 11\n",
       "\\begin{tabular}{r|lllllllllll}\n",
       "  & mpg & cyl & disp & hp & drat & wt & qsec & vs & am & gear & carb\\\\\n",
       "  & <dbl> & <dbl> & <dbl> & <dbl> & <dbl> & <dbl> & <dbl> & <dbl> & <dbl> & <dbl> & <dbl>\\\\\n",
       "\\hline\n",
       "\tMazda RX4 & 21 & 6 & 160 & 110 & 3.9 & 2.620 & 16.46 & 0 & 1 & 4 & 4\\\\\n",
       "\tMazda RX4 Wag & 21 & 6 & 160 & 110 & 3.9 & 2.875 & 17.02 & 0 & 1 & 4 & 4\\\\\n",
       "\t⋮ & ⋮ & ⋮ & ⋮ & ⋮ & ⋮ & ⋮ & ⋮ & ⋮ & ⋮ & ⋮ & ⋮\\\\\n",
       "\tMaserati Bora & 15.0 & 8 & 301 & 335 & 3.54 & 3.57 & 14.6 & 0 & 1 & 5 & 8\\\\\n",
       "\tVolvo 142E & 21.4 & 4 & 121 & 109 & 4.11 & 2.78 & 18.6 & 1 & 1 & 4 & 2\\\\\n",
       "\\end{tabular}\n"
      ],
      "text/markdown": [
       "\n",
       "A data.frame: 32 × 11\n",
       "\n",
       "| <!--/--> | mpg &lt;dbl&gt; | cyl &lt;dbl&gt; | disp &lt;dbl&gt; | hp &lt;dbl&gt; | drat &lt;dbl&gt; | wt &lt;dbl&gt; | qsec &lt;dbl&gt; | vs &lt;dbl&gt; | am &lt;dbl&gt; | gear &lt;dbl&gt; | carb &lt;dbl&gt; |\n",
       "|---|---|---|---|---|---|---|---|---|---|---|---|\n",
       "| Mazda RX4 | 21 | 6 | 160 | 110 | 3.9 | 2.620 | 16.46 | 0 | 1 | 4 | 4 |\n",
       "| Mazda RX4 Wag | 21 | 6 | 160 | 110 | 3.9 | 2.875 | 17.02 | 0 | 1 | 4 | 4 |\n",
       "| ⋮ | ⋮ | ⋮ | ⋮ | ⋮ | ⋮ | ⋮ | ⋮ | ⋮ | ⋮ | ⋮ | ⋮ |\n",
       "| Maserati Bora | 15.0 | 8 | 301 | 335 | 3.54 | 3.57 | 14.6 | 0 | 1 | 5 | 8 |\n",
       "| Volvo 142E | 21.4 | 4 | 121 | 109 | 4.11 | 2.78 | 18.6 | 1 | 1 | 4 | 2 |\n",
       "\n"
      ],
      "text/plain": [
       "              mpg  cyl disp hp  drat wt    qsec  vs am gear carb\n",
       "Mazda RX4     21   6   160  110 3.9  2.620 16.46 0  1  4    4   \n",
       "Mazda RX4 Wag 21   6   160  110 3.9  2.875 17.02 0  1  4    4   \n",
       "⋮             ⋮    ⋮   ⋮    ⋮   ⋮    ⋮     ⋮     ⋮  ⋮  ⋮    ⋮   \n",
       "Maserati Bora 15.0 8   301  335 3.54 3.57  14.6  0  1  5    8   \n",
       "Volvo 142E    21.4 4   121  109 4.11 2.78  18.6  1  1  4    2   "
      ]
     },
     "metadata": {},
     "output_type": "display_data"
    }
   ],
   "source": [
    "mtcars "
   ]
  },
  {
   "cell_type": "code",
   "execution_count": 4,
   "metadata": {
    "ExecuteTime": {
     "end_time": "2020-03-27T19:50:30.631964Z",
     "start_time": "2020-03-27T19:50:27.184Z"
    }
   },
   "outputs": [
    {
     "data": {
      "text/html": [
       "<table>\n",
       "<caption>A data.frame: 32 × 11</caption>\n",
       "<thead>\n",
       "\t<tr><th></th><th scope=col>mpg</th><th scope=col>cyl</th><th scope=col>disp</th><th scope=col>hp</th><th scope=col>drat</th><th scope=col>wt</th><th scope=col>qsec</th><th scope=col>vs</th><th scope=col>am</th><th scope=col>gear</th><th scope=col>carb</th></tr>\n",
       "\t<tr><th></th><th scope=col>&lt;dbl&gt;</th><th scope=col>&lt;dbl&gt;</th><th scope=col>&lt;dbl&gt;</th><th scope=col>&lt;dbl&gt;</th><th scope=col>&lt;dbl&gt;</th><th scope=col>&lt;dbl&gt;</th><th scope=col>&lt;dbl&gt;</th><th scope=col>&lt;dbl&gt;</th><th scope=col>&lt;dbl&gt;</th><th scope=col>&lt;dbl&gt;</th><th scope=col>&lt;dbl&gt;</th></tr>\n",
       "</thead>\n",
       "<tbody>\n",
       "\t<tr><th scope=row>Mazda RX4</th><td>21.0</td><td>6</td><td>160</td><td>110</td><td>3.90</td><td>2.620</td><td>16.46</td><td>0</td><td>1</td><td>4</td><td>4</td></tr>\n",
       "\t<tr><th scope=row>Mazda RX4 Wag</th><td>21.0</td><td>6</td><td>160</td><td>110</td><td>3.90</td><td>2.875</td><td>17.02</td><td>0</td><td>1</td><td>4</td><td>4</td></tr>\n",
       "\t<tr><th scope=row>Datsun 710</th><td>22.8</td><td>4</td><td>108</td><td> 93</td><td>3.85</td><td>2.320</td><td>18.61</td><td>1</td><td>1</td><td>4</td><td>1</td></tr>\n",
       "\t<tr><th scope=row>Hornet 4 Drive</th><td>21.4</td><td>6</td><td>258</td><td>110</td><td>3.08</td><td>3.215</td><td>19.44</td><td>1</td><td>0</td><td>3</td><td>1</td></tr>\n",
       "\t<tr><th scope=row>Hornet Sportabout</th><td>18.7</td><td>8</td><td>360</td><td>175</td><td>3.15</td><td>3.440</td><td>17.02</td><td>0</td><td>0</td><td>3</td><td>2</td></tr>\n",
       "\t<tr><th scope=row>⋮</th><td>⋮</td><td>⋮</td><td>⋮</td><td>⋮</td><td>⋮</td><td>⋮</td><td>⋮</td><td>⋮</td><td>⋮</td><td>⋮</td><td>⋮</td></tr>\n",
       "\t<tr><th scope=row>Lotus Europa</th><td>30.4</td><td>4</td><td> 95.1</td><td>113</td><td>3.77</td><td>1.513</td><td>16.9</td><td>1</td><td>1</td><td>5</td><td>2</td></tr>\n",
       "\t<tr><th scope=row>Ford Pantera L</th><td>15.8</td><td>8</td><td>351.0</td><td>264</td><td>4.22</td><td>3.170</td><td>14.5</td><td>0</td><td>1</td><td>5</td><td>4</td></tr>\n",
       "\t<tr><th scope=row>Ferrari Dino</th><td>19.7</td><td>6</td><td>145.0</td><td>175</td><td>3.62</td><td>2.770</td><td>15.5</td><td>0</td><td>1</td><td>5</td><td>6</td></tr>\n",
       "\t<tr><th scope=row>Maserati Bora</th><td>15.0</td><td>8</td><td>301.0</td><td>335</td><td>3.54</td><td>3.570</td><td>14.6</td><td>0</td><td>1</td><td>5</td><td>8</td></tr>\n",
       "\t<tr><th scope=row>Volvo 142E</th><td>21.4</td><td>4</td><td>121.0</td><td>109</td><td>4.11</td><td>2.780</td><td>18.6</td><td>1</td><td>1</td><td>4</td><td>2</td></tr>\n",
       "</tbody>\n",
       "</table>\n"
      ],
      "text/latex": [
       "A data.frame: 32 × 11\n",
       "\\begin{tabular}{r|lllllllllll}\n",
       "  & mpg & cyl & disp & hp & drat & wt & qsec & vs & am & gear & carb\\\\\n",
       "  & <dbl> & <dbl> & <dbl> & <dbl> & <dbl> & <dbl> & <dbl> & <dbl> & <dbl> & <dbl> & <dbl>\\\\\n",
       "\\hline\n",
       "\tMazda RX4 & 21.0 & 6 & 160 & 110 & 3.90 & 2.620 & 16.46 & 0 & 1 & 4 & 4\\\\\n",
       "\tMazda RX4 Wag & 21.0 & 6 & 160 & 110 & 3.90 & 2.875 & 17.02 & 0 & 1 & 4 & 4\\\\\n",
       "\tDatsun 710 & 22.8 & 4 & 108 &  93 & 3.85 & 2.320 & 18.61 & 1 & 1 & 4 & 1\\\\\n",
       "\tHornet 4 Drive & 21.4 & 6 & 258 & 110 & 3.08 & 3.215 & 19.44 & 1 & 0 & 3 & 1\\\\\n",
       "\tHornet Sportabout & 18.7 & 8 & 360 & 175 & 3.15 & 3.440 & 17.02 & 0 & 0 & 3 & 2\\\\\n",
       "\t⋮ & ⋮ & ⋮ & ⋮ & ⋮ & ⋮ & ⋮ & ⋮ & ⋮ & ⋮ & ⋮ & ⋮\\\\\n",
       "\tLotus Europa & 30.4 & 4 &  95.1 & 113 & 3.77 & 1.513 & 16.9 & 1 & 1 & 5 & 2\\\\\n",
       "\tFord Pantera L & 15.8 & 8 & 351.0 & 264 & 4.22 & 3.170 & 14.5 & 0 & 1 & 5 & 4\\\\\n",
       "\tFerrari Dino & 19.7 & 6 & 145.0 & 175 & 3.62 & 2.770 & 15.5 & 0 & 1 & 5 & 6\\\\\n",
       "\tMaserati Bora & 15.0 & 8 & 301.0 & 335 & 3.54 & 3.570 & 14.6 & 0 & 1 & 5 & 8\\\\\n",
       "\tVolvo 142E & 21.4 & 4 & 121.0 & 109 & 4.11 & 2.780 & 18.6 & 1 & 1 & 4 & 2\\\\\n",
       "\\end{tabular}\n"
      ],
      "text/markdown": [
       "\n",
       "A data.frame: 32 × 11\n",
       "\n",
       "| <!--/--> | mpg &lt;dbl&gt; | cyl &lt;dbl&gt; | disp &lt;dbl&gt; | hp &lt;dbl&gt; | drat &lt;dbl&gt; | wt &lt;dbl&gt; | qsec &lt;dbl&gt; | vs &lt;dbl&gt; | am &lt;dbl&gt; | gear &lt;dbl&gt; | carb &lt;dbl&gt; |\n",
       "|---|---|---|---|---|---|---|---|---|---|---|---|\n",
       "| Mazda RX4 | 21.0 | 6 | 160 | 110 | 3.90 | 2.620 | 16.46 | 0 | 1 | 4 | 4 |\n",
       "| Mazda RX4 Wag | 21.0 | 6 | 160 | 110 | 3.90 | 2.875 | 17.02 | 0 | 1 | 4 | 4 |\n",
       "| Datsun 710 | 22.8 | 4 | 108 |  93 | 3.85 | 2.320 | 18.61 | 1 | 1 | 4 | 1 |\n",
       "| Hornet 4 Drive | 21.4 | 6 | 258 | 110 | 3.08 | 3.215 | 19.44 | 1 | 0 | 3 | 1 |\n",
       "| Hornet Sportabout | 18.7 | 8 | 360 | 175 | 3.15 | 3.440 | 17.02 | 0 | 0 | 3 | 2 |\n",
       "| ⋮ | ⋮ | ⋮ | ⋮ | ⋮ | ⋮ | ⋮ | ⋮ | ⋮ | ⋮ | ⋮ | ⋮ |\n",
       "| Lotus Europa | 30.4 | 4 |  95.1 | 113 | 3.77 | 1.513 | 16.9 | 1 | 1 | 5 | 2 |\n",
       "| Ford Pantera L | 15.8 | 8 | 351.0 | 264 | 4.22 | 3.170 | 14.5 | 0 | 1 | 5 | 4 |\n",
       "| Ferrari Dino | 19.7 | 6 | 145.0 | 175 | 3.62 | 2.770 | 15.5 | 0 | 1 | 5 | 6 |\n",
       "| Maserati Bora | 15.0 | 8 | 301.0 | 335 | 3.54 | 3.570 | 14.6 | 0 | 1 | 5 | 8 |\n",
       "| Volvo 142E | 21.4 | 4 | 121.0 | 109 | 4.11 | 2.780 | 18.6 | 1 | 1 | 4 | 2 |\n",
       "\n"
      ],
      "text/plain": [
       "                  mpg  cyl disp  hp  drat wt    qsec  vs am gear carb\n",
       "Mazda RX4         21.0 6   160   110 3.90 2.620 16.46 0  1  4    4   \n",
       "Mazda RX4 Wag     21.0 6   160   110 3.90 2.875 17.02 0  1  4    4   \n",
       "Datsun 710        22.8 4   108    93 3.85 2.320 18.61 1  1  4    1   \n",
       "Hornet 4 Drive    21.4 6   258   110 3.08 3.215 19.44 1  0  3    1   \n",
       "Hornet Sportabout 18.7 8   360   175 3.15 3.440 17.02 0  0  3    2   \n",
       "⋮                 ⋮    ⋮   ⋮     ⋮   ⋮    ⋮     ⋮     ⋮  ⋮  ⋮    ⋮   \n",
       "Lotus Europa      30.4 4    95.1 113 3.77 1.513 16.9  1  1  5    2   \n",
       "Ford Pantera L    15.8 8   351.0 264 4.22 3.170 14.5  0  1  5    4   \n",
       "Ferrari Dino      19.7 6   145.0 175 3.62 2.770 15.5  0  1  5    6   \n",
       "Maserati Bora     15.0 8   301.0 335 3.54 3.570 14.6  0  1  5    8   \n",
       "Volvo 142E        21.4 4   121.0 109 4.11 2.780 18.6  1  1  4    2   "
      ]
     },
     "metadata": {},
     "output_type": "display_data"
    }
   ],
   "source": [
    "df.dims(10)\n",
    "mtcars"
   ]
  },
  {
   "cell_type": "code",
   "execution_count": 5,
   "metadata": {
    "ExecuteTime": {
     "end_time": "2020-03-27T19:50:30.663133Z",
     "start_time": "2020-03-27T19:50:27.186Z"
    }
   },
   "outputs": [
    {
     "data": {
      "text/html": [
       "<table>\n",
       "<caption>A data.frame: 32 × 11</caption>\n",
       "<thead>\n",
       "\t<tr><th></th><th scope=col>mpg</th><th scope=col>cyl</th><th scope=col>disp</th><th scope=col>hp</th><th scope=col>⋯</th><th scope=col>vs</th><th scope=col>am</th><th scope=col>gear</th><th scope=col>carb</th></tr>\n",
       "\t<tr><th></th><th scope=col>&lt;dbl&gt;</th><th scope=col>&lt;dbl&gt;</th><th scope=col>&lt;dbl&gt;</th><th scope=col>&lt;dbl&gt;</th><th scope=col>⋯</th><th scope=col>&lt;dbl&gt;</th><th scope=col>&lt;dbl&gt;</th><th scope=col>&lt;dbl&gt;</th><th scope=col>&lt;dbl&gt;</th></tr>\n",
       "</thead>\n",
       "<tbody>\n",
       "\t<tr><th scope=row>Mazda RX4</th><td>21</td><td>6</td><td>160</td><td>110</td><td>⋯</td><td>0</td><td>1</td><td>4</td><td>4</td></tr>\n",
       "\t<tr><th scope=row>Mazda RX4 Wag</th><td>21</td><td>6</td><td>160</td><td>110</td><td>⋯</td><td>0</td><td>1</td><td>4</td><td>4</td></tr>\n",
       "\t<tr><th scope=row>⋮</th><td>⋮</td><td>⋮</td><td>⋮</td><td>⋮</td><td>⋱</td><td>⋮</td><td>⋮</td><td>⋮</td><td>⋮</td></tr>\n",
       "\t<tr><th scope=row>Maserati Bora</th><td>15.0</td><td>8</td><td>301</td><td>335</td><td>⋯</td><td>0</td><td>1</td><td>5</td><td>8</td></tr>\n",
       "\t<tr><th scope=row>Volvo 142E</th><td>21.4</td><td>4</td><td>121</td><td>109</td><td>⋯</td><td>1</td><td>1</td><td>4</td><td>2</td></tr>\n",
       "</tbody>\n",
       "</table>\n"
      ],
      "text/latex": [
       "A data.frame: 32 × 11\n",
       "\\begin{tabular}{r|lllllllll}\n",
       "  & mpg & cyl & disp & hp & ⋯ & vs & am & gear & carb\\\\\n",
       "  & <dbl> & <dbl> & <dbl> & <dbl> & ⋯ & <dbl> & <dbl> & <dbl> & <dbl>\\\\\n",
       "\\hline\n",
       "\tMazda RX4 & 21 & 6 & 160 & 110 & ⋯ & 0 & 1 & 4 & 4\\\\\n",
       "\tMazda RX4 Wag & 21 & 6 & 160 & 110 & ⋯ & 0 & 1 & 4 & 4\\\\\n",
       "\t⋮ & ⋮ & ⋮ & ⋮ & ⋮ & ⋱ & ⋮ & ⋮ & ⋮ & ⋮\\\\\n",
       "\tMaserati Bora & 15.0 & 8 & 301 & 335 & ⋯ & 0 & 1 & 5 & 8\\\\\n",
       "\tVolvo 142E & 21.4 & 4 & 121 & 109 & ⋯ & 1 & 1 & 4 & 2\\\\\n",
       "\\end{tabular}\n"
      ],
      "text/markdown": [
       "\n",
       "A data.frame: 32 × 11\n",
       "\n",
       "| <!--/--> | mpg &lt;dbl&gt; | cyl &lt;dbl&gt; | disp &lt;dbl&gt; | hp &lt;dbl&gt; | ⋯ ⋯ | vs &lt;dbl&gt; | am &lt;dbl&gt; | gear &lt;dbl&gt; | carb &lt;dbl&gt; |\n",
       "|---|---|---|---|---|---|---|---|---|---|\n",
       "| Mazda RX4 | 21 | 6 | 160 | 110 | ⋯ | 0 | 1 | 4 | 4 |\n",
       "| Mazda RX4 Wag | 21 | 6 | 160 | 110 | ⋯ | 0 | 1 | 4 | 4 |\n",
       "| ⋮ | ⋮ | ⋮ | ⋮ | ⋮ | ⋱ | ⋮ | ⋮ | ⋮ | ⋮ |\n",
       "| Maserati Bora | 15.0 | 8 | 301 | 335 | ⋯ | 0 | 1 | 5 | 8 |\n",
       "| Volvo 142E | 21.4 | 4 | 121 | 109 | ⋯ | 1 | 1 | 4 | 2 |\n",
       "\n"
      ],
      "text/plain": [
       "              mpg  cyl disp hp  ⋯ vs am gear carb\n",
       "Mazda RX4     21   6   160  110 ⋯ 0  1  4    4   \n",
       "Mazda RX4 Wag 21   6   160  110 ⋯ 0  1  4    4   \n",
       "⋮             ⋮    ⋮   ⋮    ⋮   ⋱ ⋮  ⋮  ⋮    ⋮   \n",
       "Maserati Bora 15.0 8   301  335 ⋯ 0  1  5    8   \n",
       "Volvo 142E    21.4 4   121  109 ⋯ 1  1  4    2   "
      ]
     },
     "metadata": {},
     "output_type": "display_data"
    }
   ],
   "source": [
    "df.dims(4,8)\n",
    "mtcars"
   ]
  },
  {
   "cell_type": "code",
   "execution_count": 6,
   "metadata": {
    "ExecuteTime": {
     "end_time": "2020-03-27T19:50:30.701592Z",
     "start_time": "2020-03-27T19:50:27.189Z"
    }
   },
   "outputs": [
    {
     "data": {
      "text/html": [
       "<table>\n",
       "<caption>A data.frame: 32 × 11</caption>\n",
       "<thead>\n",
       "\t<tr><th></th><th scope=col>mpg</th><th scope=col>cyl</th><th scope=col>disp</th><th scope=col>hp</th><th scope=col>drat</th><th scope=col>wt</th><th scope=col>qsec</th><th scope=col>vs</th><th scope=col>am</th><th scope=col>gear</th><th scope=col>carb</th></tr>\n",
       "\t<tr><th></th><th scope=col>&lt;dbl&gt;</th><th scope=col>&lt;dbl&gt;</th><th scope=col>&lt;dbl&gt;</th><th scope=col>&lt;dbl&gt;</th><th scope=col>&lt;dbl&gt;</th><th scope=col>&lt;dbl&gt;</th><th scope=col>&lt;dbl&gt;</th><th scope=col>&lt;dbl&gt;</th><th scope=col>&lt;dbl&gt;</th><th scope=col>&lt;dbl&gt;</th><th scope=col>&lt;dbl&gt;</th></tr>\n",
       "</thead>\n",
       "<tbody>\n",
       "\t<tr><th scope=row>Mazda RX4</th><td>21</td><td>6</td><td>160</td><td>110</td><td>3.9</td><td>2.620</td><td>16.46</td><td>0</td><td>1</td><td>4</td><td>4</td></tr>\n",
       "\t<tr><th scope=row>Mazda RX4 Wag</th><td>21</td><td>6</td><td>160</td><td>110</td><td>3.9</td><td>2.875</td><td>17.02</td><td>0</td><td>1</td><td>4</td><td>4</td></tr>\n",
       "\t<tr><th scope=row>⋮</th><td>⋮</td><td>⋮</td><td>⋮</td><td>⋮</td><td>⋮</td><td>⋮</td><td>⋮</td><td>⋮</td><td>⋮</td><td>⋮</td><td>⋮</td></tr>\n",
       "\t<tr><th scope=row>Maserati Bora</th><td>15.0</td><td>8</td><td>301</td><td>335</td><td>3.54</td><td>3.57</td><td>14.6</td><td>0</td><td>1</td><td>5</td><td>8</td></tr>\n",
       "\t<tr><th scope=row>Volvo 142E</th><td>21.4</td><td>4</td><td>121</td><td>109</td><td>4.11</td><td>2.78</td><td>18.6</td><td>1</td><td>1</td><td>4</td><td>2</td></tr>\n",
       "</tbody>\n",
       "</table>\n"
      ],
      "text/latex": [
       "A data.frame: 32 × 11\n",
       "\\begin{tabular}{r|lllllllllll}\n",
       "  & mpg & cyl & disp & hp & drat & wt & qsec & vs & am & gear & carb\\\\\n",
       "  & <dbl> & <dbl> & <dbl> & <dbl> & <dbl> & <dbl> & <dbl> & <dbl> & <dbl> & <dbl> & <dbl>\\\\\n",
       "\\hline\n",
       "\tMazda RX4 & 21 & 6 & 160 & 110 & 3.9 & 2.620 & 16.46 & 0 & 1 & 4 & 4\\\\\n",
       "\tMazda RX4 Wag & 21 & 6 & 160 & 110 & 3.9 & 2.875 & 17.02 & 0 & 1 & 4 & 4\\\\\n",
       "\t⋮ & ⋮ & ⋮ & ⋮ & ⋮ & ⋮ & ⋮ & ⋮ & ⋮ & ⋮ & ⋮ & ⋮\\\\\n",
       "\tMaserati Bora & 15.0 & 8 & 301 & 335 & 3.54 & 3.57 & 14.6 & 0 & 1 & 5 & 8\\\\\n",
       "\tVolvo 142E & 21.4 & 4 & 121 & 109 & 4.11 & 2.78 & 18.6 & 1 & 1 & 4 & 2\\\\\n",
       "\\end{tabular}\n"
      ],
      "text/markdown": [
       "\n",
       "A data.frame: 32 × 11\n",
       "\n",
       "| <!--/--> | mpg &lt;dbl&gt; | cyl &lt;dbl&gt; | disp &lt;dbl&gt; | hp &lt;dbl&gt; | drat &lt;dbl&gt; | wt &lt;dbl&gt; | qsec &lt;dbl&gt; | vs &lt;dbl&gt; | am &lt;dbl&gt; | gear &lt;dbl&gt; | carb &lt;dbl&gt; |\n",
       "|---|---|---|---|---|---|---|---|---|---|---|---|\n",
       "| Mazda RX4 | 21 | 6 | 160 | 110 | 3.9 | 2.620 | 16.46 | 0 | 1 | 4 | 4 |\n",
       "| Mazda RX4 Wag | 21 | 6 | 160 | 110 | 3.9 | 2.875 | 17.02 | 0 | 1 | 4 | 4 |\n",
       "| ⋮ | ⋮ | ⋮ | ⋮ | ⋮ | ⋮ | ⋮ | ⋮ | ⋮ | ⋮ | ⋮ | ⋮ |\n",
       "| Maserati Bora | 15.0 | 8 | 301 | 335 | 3.54 | 3.57 | 14.6 | 0 | 1 | 5 | 8 |\n",
       "| Volvo 142E | 21.4 | 4 | 121 | 109 | 4.11 | 2.78 | 18.6 | 1 | 1 | 4 | 2 |\n",
       "\n"
      ],
      "text/plain": [
       "              mpg  cyl disp hp  drat wt    qsec  vs am gear carb\n",
       "Mazda RX4     21   6   160  110 3.9  2.620 16.46 0  1  4    4   \n",
       "Mazda RX4 Wag 21   6   160  110 3.9  2.875 17.02 0  1  4    4   \n",
       "⋮             ⋮    ⋮   ⋮    ⋮   ⋮    ⋮     ⋮     ⋮  ⋮  ⋮    ⋮   \n",
       "Maserati Bora 15.0 8   301  335 3.54 3.57  14.6  0  1  5    8   \n",
       "Volvo 142E    21.4 4   121  109 4.11 2.78  18.6  1  1  4    2   "
      ]
     },
     "metadata": {},
     "output_type": "display_data"
    }
   ],
   "source": [
    "df.dims()\n",
    "mtcars"
   ]
  },
  {
   "cell_type": "markdown",
   "metadata": {},
   "source": [
    "## as.Num()\n",
    "\n",
    "* A wrapper for `as.numeric(as.character())`, which is useful for working with factors"
   ]
  },
  {
   "cell_type": "code",
   "execution_count": 7,
   "metadata": {
    "ExecuteTime": {
     "end_time": "2020-03-27T19:50:30.721557Z",
     "start_time": "2020-03-27T19:50:27.192Z"
    }
   },
   "outputs": [
    {
     "data": {
      "text/html": [
       "<ol class=list-inline>\n",
       "\t<li>5</li>\n",
       "\t<li>3</li>\n",
       "\t<li>7</li>\n",
       "\t<li>2</li>\n",
       "\t<li>8</li>\n",
       "</ol>\n",
       "\n",
       "<details>\n",
       "\t<summary style=display:list-item;cursor:pointer>\n",
       "\t\t<strong>Levels</strong>:\n",
       "\t</summary>\n",
       "\t<ol class=list-inline>\n",
       "\t\t<li>'2'</li>\n",
       "\t\t<li>'3'</li>\n",
       "\t\t<li>'5'</li>\n",
       "\t\t<li>'7'</li>\n",
       "\t\t<li>'8'</li>\n",
       "\t</ol>\n",
       "</details>"
      ],
      "text/latex": [
       "\\begin{enumerate*}\n",
       "\\item 5\n",
       "\\item 3\n",
       "\\item 7\n",
       "\\item 2\n",
       "\\item 8\n",
       "\\end{enumerate*}\n",
       "\n",
       "\\emph{Levels}: \\begin{enumerate*}\n",
       "\\item '2'\n",
       "\\item '3'\n",
       "\\item '5'\n",
       "\\item '7'\n",
       "\\item '8'\n",
       "\\end{enumerate*}\n"
      ],
      "text/markdown": [
       "1. 5\n",
       "2. 3\n",
       "3. 7\n",
       "4. 2\n",
       "5. 8\n",
       "\n",
       "\n",
       "\n",
       "**Levels**: 1. '2'\n",
       "2. '3'\n",
       "3. '5'\n",
       "4. '7'\n",
       "5. '8'\n",
       "\n",
       "\n"
      ],
      "text/plain": [
       "[1] 5 3 7 2 8\n",
       "Levels: 2 3 5 7 8"
      ]
     },
     "metadata": {},
     "output_type": "display_data"
    }
   ],
   "source": [
    "fac = factor(c(5,3,7,2,8))\n",
    "fac"
   ]
  },
  {
   "cell_type": "code",
   "execution_count": 8,
   "metadata": {
    "ExecuteTime": {
     "end_time": "2020-03-27T19:50:30.739318Z",
     "start_time": "2020-03-27T19:50:27.195Z"
    }
   },
   "outputs": [
    {
     "data": {
      "text/html": [
       "<ol class=list-inline>\n",
       "\t<li>5</li>\n",
       "\t<li>3</li>\n",
       "\t<li>7</li>\n",
       "\t<li>2</li>\n",
       "\t<li>8</li>\n",
       "</ol>\n"
      ],
      "text/latex": [
       "\\begin{enumerate*}\n",
       "\\item 5\n",
       "\\item 3\n",
       "\\item 7\n",
       "\\item 2\n",
       "\\item 8\n",
       "\\end{enumerate*}\n"
      ],
      "text/markdown": [
       "1. 5\n",
       "2. 3\n",
       "3. 7\n",
       "4. 2\n",
       "5. 8\n",
       "\n",
       "\n"
      ],
      "text/plain": [
       "[1] 5 3 7 2 8"
      ]
     },
     "metadata": {},
     "output_type": "display_data"
    }
   ],
   "source": [
    "vec = c(5,3,7,2,8)\n",
    "vec"
   ]
  },
  {
   "cell_type": "code",
   "execution_count": 9,
   "metadata": {
    "ExecuteTime": {
     "end_time": "2020-03-27T19:50:30.761554Z",
     "start_time": "2020-03-27T19:50:27.198Z"
    }
   },
   "outputs": [
    {
     "data": {
      "text/html": [
       "<ol class=list-inline>\n",
       "\t<li>3</li>\n",
       "\t<li>2</li>\n",
       "\t<li>4</li>\n",
       "\t<li>1</li>\n",
       "\t<li>5</li>\n",
       "</ol>\n"
      ],
      "text/latex": [
       "\\begin{enumerate*}\n",
       "\\item 3\n",
       "\\item 2\n",
       "\\item 4\n",
       "\\item 1\n",
       "\\item 5\n",
       "\\end{enumerate*}\n"
      ],
      "text/markdown": [
       "1. 3\n",
       "2. 2\n",
       "3. 4\n",
       "4. 1\n",
       "5. 5\n",
       "\n",
       "\n"
      ],
      "text/plain": [
       "[1] 3 2 4 1 5"
      ]
     },
     "metadata": {},
     "output_type": "display_data"
    }
   ],
   "source": [
    "as.numeric(fac)"
   ]
  },
  {
   "cell_type": "code",
   "execution_count": 10,
   "metadata": {
    "ExecuteTime": {
     "end_time": "2020-03-27T19:50:30.778096Z",
     "start_time": "2020-03-27T19:50:27.200Z"
    }
   },
   "outputs": [
    {
     "data": {
      "text/html": [
       "<ol class=list-inline>\n",
       "\t<li>5</li>\n",
       "\t<li>3</li>\n",
       "\t<li>7</li>\n",
       "\t<li>2</li>\n",
       "\t<li>8</li>\n",
       "</ol>\n"
      ],
      "text/latex": [
       "\\begin{enumerate*}\n",
       "\\item 5\n",
       "\\item 3\n",
       "\\item 7\n",
       "\\item 2\n",
       "\\item 8\n",
       "\\end{enumerate*}\n"
      ],
      "text/markdown": [
       "1. 5\n",
       "2. 3\n",
       "3. 7\n",
       "4. 2\n",
       "5. 8\n",
       "\n",
       "\n"
      ],
      "text/plain": [
       "[1] 5 3 7 2 8"
      ]
     },
     "metadata": {},
     "output_type": "display_data"
    }
   ],
   "source": [
    "as.Num(fac)"
   ]
  },
  {
   "cell_type": "code",
   "execution_count": 11,
   "metadata": {
    "ExecuteTime": {
     "end_time": "2020-03-27T19:50:30.793448Z",
     "start_time": "2020-03-27T19:50:27.203Z"
    }
   },
   "outputs": [
    {
     "data": {
      "text/html": [
       "<ol class=list-inline>\n",
       "\t<li>5</li>\n",
       "\t<li>3</li>\n",
       "\t<li>7</li>\n",
       "\t<li>2</li>\n",
       "\t<li>8</li>\n",
       "</ol>\n"
      ],
      "text/latex": [
       "\\begin{enumerate*}\n",
       "\\item 5\n",
       "\\item 3\n",
       "\\item 7\n",
       "\\item 2\n",
       "\\item 8\n",
       "\\end{enumerate*}\n"
      ],
      "text/markdown": [
       "1. 5\n",
       "2. 3\n",
       "3. 7\n",
       "4. 2\n",
       "5. 8\n",
       "\n",
       "\n"
      ],
      "text/plain": [
       "[1] 5 3 7 2 8"
      ]
     },
     "metadata": {},
     "output_type": "display_data"
    }
   ],
   "source": [
    "as.numeric(vec)"
   ]
  },
  {
   "cell_type": "markdown",
   "metadata": {},
   "source": [
    "## summary_x()\n",
    "\n",
    "* `summary()` with more info and better foramtting"
   ]
  },
  {
   "cell_type": "code",
   "execution_count": 12,
   "metadata": {
    "ExecuteTime": {
     "end_time": "2020-03-27T19:50:30.811342Z",
     "start_time": "2020-03-27T19:50:27.205Z"
    }
   },
   "outputs": [
    {
     "data": {
      "text/plain": [
       "   Min. 1st Qu.  Median    Mean 3rd Qu.    Max. \n",
       "  10.40   15.43   19.20   20.09   22.80   33.90 "
      ]
     },
     "metadata": {},
     "output_type": "display_data"
    }
   ],
   "source": [
    "mtcars$mpg %>% summary"
   ]
  },
  {
   "cell_type": "code",
   "execution_count": 13,
   "metadata": {
    "ExecuteTime": {
     "end_time": "2020-03-27T19:50:30.831865Z",
     "start_time": "2020-03-27T19:50:27.208Z"
    }
   },
   "outputs": [
    {
     "data": {
      "text/html": [
       "<table>\n",
       "<caption>A matrix: 1 × 8 of type dbl</caption>\n",
       "<thead>\n",
       "\t<tr><th></th><th scope=col>Min.</th><th scope=col>1st Qu.</th><th scope=col>Median</th><th scope=col>Mean</th><th scope=col>3rd Qu.</th><th scope=col>Max.</th><th scope=col>sd</th><th scope=col>sd_err_of_mean</th></tr>\n",
       "</thead>\n",
       "<tbody>\n",
       "\t<tr><th scope=row>.</th><td>10.4</td><td>15.425</td><td>19.2</td><td>20.09062</td><td>22.8</td><td>33.9</td><td>7.928</td><td>3.236</td></tr>\n",
       "</tbody>\n",
       "</table>\n"
      ],
      "text/latex": [
       "A matrix: 1 × 8 of type dbl\n",
       "\\begin{tabular}{r|llllllll}\n",
       "  & Min. & 1st Qu. & Median & Mean & 3rd Qu. & Max. & sd & sd\\_err\\_of\\_mean\\\\\n",
       "\\hline\n",
       "\t. & 10.4 & 15.425 & 19.2 & 20.09062 & 22.8 & 33.9 & 7.928 & 3.236\\\\\n",
       "\\end{tabular}\n"
      ],
      "text/markdown": [
       "\n",
       "A matrix: 1 × 8 of type dbl\n",
       "\n",
       "| <!--/--> | Min. | 1st Qu. | Median | Mean | 3rd Qu. | Max. | sd | sd_err_of_mean |\n",
       "|---|---|---|---|---|---|---|---|---|\n",
       "| . | 10.4 | 15.425 | 19.2 | 20.09062 | 22.8 | 33.9 | 7.928 | 3.236 |\n",
       "\n"
      ],
      "text/plain": [
       "  Min. 1st Qu. Median Mean     3rd Qu. Max. sd    sd_err_of_mean\n",
       ". 10.4 15.425  19.2   20.09062 22.8    33.9 7.928 3.236         "
      ]
     },
     "metadata": {},
     "output_type": "display_data"
    }
   ],
   "source": [
    "mtcars$mpg %>% summary_x"
   ]
  },
  {
   "cell_type": "code",
   "execution_count": 14,
   "metadata": {
    "ExecuteTime": {
     "end_time": "2020-03-27T19:50:30.859546Z",
     "start_time": "2020-03-27T19:50:27.211Z"
    }
   },
   "outputs": [
    {
     "data": {
      "text/html": [
       "<table>\n",
       "<caption>A matrix: 1 × 8 of type dbl</caption>\n",
       "<thead>\n",
       "\t<tr><th></th><th scope=col>Min.</th><th scope=col>1st Qu.</th><th scope=col>Median</th><th scope=col>Mean</th><th scope=col>3rd Qu.</th><th scope=col>Max.</th><th scope=col>sd</th><th scope=col>sd_err_of_mean</th></tr>\n",
       "</thead>\n",
       "<tbody>\n",
       "\t<tr><th scope=row>Miles per gallon</th><td>10.4</td><td>15.425</td><td>19.2</td><td>20.09062</td><td>22.8</td><td>33.9</td><td>7.928</td><td>3.236</td></tr>\n",
       "</tbody>\n",
       "</table>\n"
      ],
      "text/latex": [
       "A matrix: 1 × 8 of type dbl\n",
       "\\begin{tabular}{r|llllllll}\n",
       "  & Min. & 1st Qu. & Median & Mean & 3rd Qu. & Max. & sd & sd\\_err\\_of\\_mean\\\\\n",
       "\\hline\n",
       "\tMiles per gallon & 10.4 & 15.425 & 19.2 & 20.09062 & 22.8 & 33.9 & 7.928 & 3.236\\\\\n",
       "\\end{tabular}\n"
      ],
      "text/markdown": [
       "\n",
       "A matrix: 1 × 8 of type dbl\n",
       "\n",
       "| <!--/--> | Min. | 1st Qu. | Median | Mean | 3rd Qu. | Max. | sd | sd_err_of_mean |\n",
       "|---|---|---|---|---|---|---|---|---|\n",
       "| Miles per gallon | 10.4 | 15.425 | 19.2 | 20.09062 | 22.8 | 33.9 | 7.928 | 3.236 |\n",
       "\n"
      ],
      "text/plain": [
       "                 Min. 1st Qu. Median Mean     3rd Qu. Max. sd    sd_err_of_mean\n",
       "Miles per gallon 10.4 15.425  19.2   20.09062 22.8    33.9 7.928 3.236         "
      ]
     },
     "metadata": {},
     "output_type": "display_data"
    }
   ],
   "source": [
    "mtcars$mpg %>% summary_x('Miles per gallon')"
   ]
  },
  {
   "cell_type": "code",
   "execution_count": 15,
   "metadata": {
    "ExecuteTime": {
     "end_time": "2020-03-27T19:50:30.881649Z",
     "start_time": "2020-03-27T19:50:27.214Z"
    }
   },
   "outputs": [
    {
     "data": {
      "text/html": [
       "<table>\n",
       "<caption>A matrix: 1 × 8 of type dbl</caption>\n",
       "<thead>\n",
       "\t<tr><th></th><th scope=col>Min.</th><th scope=col>1st Qu.</th><th scope=col>Median</th><th scope=col>Mean</th><th scope=col>3rd Qu.</th><th scope=col>Max.</th><th scope=col>sd</th><th scope=col>sd_err_of_mean</th></tr>\n",
       "</thead>\n",
       "<tbody>\n",
       "\t<tr><th scope=row>Miles per gallon</th><td>10.4</td><td>15.425</td><td>19.2</td><td>20.09062</td><td>22.8</td><td>33.9</td><td>7.928</td><td>3.236</td></tr>\n",
       "</tbody>\n",
       "</table>\n"
      ],
      "text/latex": [
       "A matrix: 1 × 8 of type dbl\n",
       "\\begin{tabular}{r|llllllll}\n",
       "  & Min. & 1st Qu. & Median & Mean & 3rd Qu. & Max. & sd & sd\\_err\\_of\\_mean\\\\\n",
       "\\hline\n",
       "\tMiles per gallon & 10.4 & 15.425 & 19.2 & 20.09062 & 22.8 & 33.9 & 7.928 & 3.236\\\\\n",
       "\\end{tabular}\n"
      ],
      "text/markdown": [
       "\n",
       "A matrix: 1 × 8 of type dbl\n",
       "\n",
       "| <!--/--> | Min. | 1st Qu. | Median | Mean | 3rd Qu. | Max. | sd | sd_err_of_mean |\n",
       "|---|---|---|---|---|---|---|---|---|\n",
       "| Miles per gallon | 10.4 | 15.425 | 19.2 | 20.09062 | 22.8 | 33.9 | 7.928 | 3.236 |\n",
       "\n"
      ],
      "text/plain": [
       "                 Min. 1st Qu. Median Mean     3rd Qu. Max. sd    sd_err_of_mean\n",
       "Miles per gallon 10.4 15.425  19.2   20.09062 22.8    33.9 7.928 3.236         "
      ]
     },
     "metadata": {},
     "output_type": "display_data"
    }
   ],
   "source": [
    "mtcars %>% summary_x('Miles per gallon', mpg)"
   ]
  },
  {
   "cell_type": "code",
   "execution_count": 16,
   "metadata": {
    "ExecuteTime": {
     "end_time": "2020-03-27T19:50:30.912297Z",
     "start_time": "2020-03-27T19:50:27.216Z"
    }
   },
   "outputs": [
    {
     "data": {
      "text/html": [
       "<table>\n",
       "<caption>A matrix: 1 × 8 of type dbl</caption>\n",
       "<thead>\n",
       "\t<tr><th></th><th scope=col>Min.</th><th scope=col>1st Qu.</th><th scope=col>Median</th><th scope=col>Mean</th><th scope=col>3rd Qu.</th><th scope=col>Max.</th><th scope=col>sd</th><th scope=col>sd_err_of_mean</th></tr>\n",
       "</thead>\n",
       "<tbody>\n",
       "\t<tr><th scope=row>Miles per gallon</th><td>10.4</td><td>15.425</td><td>19.2</td><td>20.09062</td><td>22.8</td><td>33.9</td><td>7.928</td><td>3.236</td></tr>\n",
       "</tbody>\n",
       "</table>\n"
      ],
      "text/latex": [
       "A matrix: 1 × 8 of type dbl\n",
       "\\begin{tabular}{r|llllllll}\n",
       "  & Min. & 1st Qu. & Median & Mean & 3rd Qu. & Max. & sd & sd\\_err\\_of\\_mean\\\\\n",
       "\\hline\n",
       "\tMiles per gallon & 10.4 & 15.425 & 19.2 & 20.09062 & 22.8 & 33.9 & 7.928 & 3.236\\\\\n",
       "\\end{tabular}\n"
      ],
      "text/markdown": [
       "\n",
       "A matrix: 1 × 8 of type dbl\n",
       "\n",
       "| <!--/--> | Min. | 1st Qu. | Median | Mean | 3rd Qu. | Max. | sd | sd_err_of_mean |\n",
       "|---|---|---|---|---|---|---|---|---|\n",
       "| Miles per gallon | 10.4 | 15.425 | 19.2 | 20.09062 | 22.8 | 33.9 | 7.928 | 3.236 |\n",
       "\n"
      ],
      "text/plain": [
       "                 Min. 1st Qu. Median Mean     3rd Qu. Max. sd    sd_err_of_mean\n",
       "Miles per gallon 10.4 15.425  19.2   20.09062 22.8    33.9 7.928 3.236         "
      ]
     },
     "metadata": {},
     "output_type": "display_data"
    }
   ],
   "source": [
    "# data.table\n",
    "mtcars %>% as.data.table %>% summary_x('Miles per gallon', mpg)"
   ]
  },
  {
   "cell_type": "markdown",
   "metadata": {},
   "source": [
    "## unique_n()\n",
    "\n",
    "* Pretty print of number of unique elements"
   ]
  },
  {
   "cell_type": "code",
   "execution_count": 17,
   "metadata": {
    "ExecuteTime": {
     "end_time": "2020-03-27T19:50:30.970244Z",
     "start_time": "2020-03-27T19:50:27.219Z"
    }
   },
   "outputs": [
    {
     "data": {
      "text/html": [
       "<table>\n",
       "<caption>A tibble: 53940 × 10</caption>\n",
       "<thead>\n",
       "\t<tr><th scope=col>carat</th><th scope=col>cut</th><th scope=col>color</th><th scope=col>clarity</th><th scope=col>depth</th><th scope=col>table</th><th scope=col>price</th><th scope=col>x</th><th scope=col>y</th><th scope=col>z</th></tr>\n",
       "\t<tr><th scope=col>&lt;dbl&gt;</th><th scope=col>&lt;ord&gt;</th><th scope=col>&lt;ord&gt;</th><th scope=col>&lt;ord&gt;</th><th scope=col>&lt;dbl&gt;</th><th scope=col>&lt;dbl&gt;</th><th scope=col>&lt;int&gt;</th><th scope=col>&lt;dbl&gt;</th><th scope=col>&lt;dbl&gt;</th><th scope=col>&lt;dbl&gt;</th></tr>\n",
       "</thead>\n",
       "<tbody>\n",
       "\t<tr><td>0.23</td><td>Ideal  </td><td>E</td><td>SI2</td><td>61.5</td><td>55</td><td>326</td><td>3.95</td><td>3.98</td><td>2.43</td></tr>\n",
       "\t<tr><td>0.21</td><td>Premium</td><td>E</td><td>SI1</td><td>59.8</td><td>61</td><td>326</td><td>3.89</td><td>3.84</td><td>2.31</td></tr>\n",
       "\t<tr><td>⋮</td><td>⋮</td><td>⋮</td><td>⋮</td><td>⋮</td><td>⋮</td><td>⋮</td><td>⋮</td><td>⋮</td><td>⋮</td></tr>\n",
       "\t<tr><td>0.86</td><td>Premium</td><td>H</td><td>SI2</td><td>61.0</td><td>58</td><td>2757</td><td>6.15</td><td>6.12</td><td>3.74</td></tr>\n",
       "\t<tr><td>0.75</td><td>Ideal  </td><td>D</td><td>SI2</td><td>62.2</td><td>55</td><td>2757</td><td>5.83</td><td>5.87</td><td>3.64</td></tr>\n",
       "</tbody>\n",
       "</table>\n"
      ],
      "text/latex": [
       "A tibble: 53940 × 10\n",
       "\\begin{tabular}{llllllllll}\n",
       " carat & cut & color & clarity & depth & table & price & x & y & z\\\\\n",
       " <dbl> & <ord> & <ord> & <ord> & <dbl> & <dbl> & <int> & <dbl> & <dbl> & <dbl>\\\\\n",
       "\\hline\n",
       "\t 0.23 & Ideal   & E & SI2 & 61.5 & 55 & 326 & 3.95 & 3.98 & 2.43\\\\\n",
       "\t 0.21 & Premium & E & SI1 & 59.8 & 61 & 326 & 3.89 & 3.84 & 2.31\\\\\n",
       "\t ⋮ & ⋮ & ⋮ & ⋮ & ⋮ & ⋮ & ⋮ & ⋮ & ⋮ & ⋮\\\\\n",
       "\t 0.86 & Premium & H & SI2 & 61.0 & 58 & 2757 & 6.15 & 6.12 & 3.74\\\\\n",
       "\t 0.75 & Ideal   & D & SI2 & 62.2 & 55 & 2757 & 5.83 & 5.87 & 3.64\\\\\n",
       "\\end{tabular}\n"
      ],
      "text/markdown": [
       "\n",
       "A tibble: 53940 × 10\n",
       "\n",
       "| carat &lt;dbl&gt; | cut &lt;ord&gt; | color &lt;ord&gt; | clarity &lt;ord&gt; | depth &lt;dbl&gt; | table &lt;dbl&gt; | price &lt;int&gt; | x &lt;dbl&gt; | y &lt;dbl&gt; | z &lt;dbl&gt; |\n",
       "|---|---|---|---|---|---|---|---|---|---|\n",
       "| 0.23 | Ideal   | E | SI2 | 61.5 | 55 | 326 | 3.95 | 3.98 | 2.43 |\n",
       "| 0.21 | Premium | E | SI1 | 59.8 | 61 | 326 | 3.89 | 3.84 | 2.31 |\n",
       "| ⋮ | ⋮ | ⋮ | ⋮ | ⋮ | ⋮ | ⋮ | ⋮ | ⋮ | ⋮ |\n",
       "| 0.86 | Premium | H | SI2 | 61.0 | 58 | 2757 | 6.15 | 6.12 | 3.74 |\n",
       "| 0.75 | Ideal   | D | SI2 | 62.2 | 55 | 2757 | 5.83 | 5.87 | 3.64 |\n",
       "\n"
      ],
      "text/plain": [
       "      carat cut     color clarity depth table price x    y    z   \n",
       "1     0.23  Ideal   E     SI2     61.5  55    326   3.95 3.98 2.43\n",
       "2     0.21  Premium E     SI1     59.8  61    326   3.89 3.84 2.31\n",
       "⋮     ⋮     ⋮       ⋮     ⋮       ⋮     ⋮     ⋮     ⋮    ⋮    ⋮   \n",
       "53939 0.86  Premium H     SI2     61.0  58    2757  6.15 6.12 3.74\n",
       "53940 0.75  Ideal   D     SI2     62.2  55    2757  5.83 5.87 3.64"
      ]
     },
     "metadata": {},
     "output_type": "display_data"
    }
   ],
   "source": [
    "diamonds"
   ]
  },
  {
   "cell_type": "code",
   "execution_count": 18,
   "metadata": {
    "ExecuteTime": {
     "end_time": "2020-03-27T19:50:30.987940Z",
     "start_time": "2020-03-27T19:50:27.223Z"
    }
   },
   "outputs": [
    {
     "name": "stdout",
     "output_type": "stream",
     "text": [
      "No. of unique colors: 7 \n"
     ]
    }
   ],
   "source": [
    "diamonds$color %>% unique_n('colors')"
   ]
  },
  {
   "cell_type": "code",
   "execution_count": 19,
   "metadata": {
    "ExecuteTime": {
     "end_time": "2020-03-27T19:50:31.005034Z",
     "start_time": "2020-03-27T19:50:27.225Z"
    }
   },
   "outputs": [
    {
     "name": "stdout",
     "output_type": "stream",
     "text": [
      "No. of unique clarities: 8 \n"
     ]
    }
   ],
   "source": [
    "diamonds %>% unique_n('clarities', clarity)"
   ]
  },
  {
   "cell_type": "code",
   "execution_count": 20,
   "metadata": {
    "ExecuteTime": {
     "end_time": "2020-03-27T19:50:31.031263Z",
     "start_time": "2020-03-27T19:50:27.228Z"
    }
   },
   "outputs": [
    {
     "name": "stdout",
     "output_type": "stream",
     "text": [
      "No. of unique colors: 7 \n"
     ]
    }
   ],
   "source": [
    "diamonds %>% data.table %>% unique_n('colors', color)"
   ]
  },
  {
   "cell_type": "code",
   "execution_count": 21,
   "metadata": {
    "ExecuteTime": {
     "end_time": "2020-03-27T19:50:31.056647Z",
     "start_time": "2020-03-27T19:50:27.230Z"
    }
   },
   "outputs": [
    {
     "name": "stdout",
     "output_type": "stream",
     "text": [
      "No. of unique cuts: 7 \n"
     ]
    }
   ],
   "source": [
    "diamonds %>% unique_n('cuts', color)"
   ]
  },
  {
   "cell_type": "markdown",
   "metadata": {},
   "source": [
    "## overlap()\n",
    "\n",
    "* Overlap of vectors or table columns \n",
    "* Useful to check for key overlap before joining tables"
   ]
  },
  {
   "cell_type": "code",
   "execution_count": 22,
   "metadata": {
    "ExecuteTime": {
     "end_time": "2020-03-27T19:50:31.073454Z",
     "start_time": "2020-03-27T19:50:27.233Z"
    }
   },
   "outputs": [
    {
     "name": "stdout",
     "output_type": "stream",
     "text": [
      "intersect(x,y): 2 \n",
      "setdiff(x,y): 1 \n",
      "setdiff(y,x): 1 \n",
      "union(x,y): 4 \n"
     ]
    }
   ],
   "source": [
    "overlap(1:3, 2:4)"
   ]
  },
  {
   "cell_type": "code",
   "execution_count": 23,
   "metadata": {
    "ExecuteTime": {
     "end_time": "2020-03-27T19:50:31.089061Z",
     "start_time": "2020-03-27T19:50:27.236Z"
    }
   },
   "outputs": [
    {
     "name": "stdout",
     "output_type": "stream",
     "text": [
      "intersect(x,y): 3 \n",
      "setdiff(x,y): 0 \n",
      "setdiff(y,x): 23 \n",
      "union(x,y): 26 \n"
     ]
    }
   ],
   "source": [
    "overlap(c('A', 'B', 'C'), LETTERS)"
   ]
  },
  {
   "cell_type": "code",
   "execution_count": 24,
   "metadata": {
    "ExecuteTime": {
     "end_time": "2020-03-27T19:50:31.104601Z",
     "start_time": "2020-03-27T19:50:27.238Z"
    }
   },
   "outputs": [
    {
     "name": "stdout",
     "output_type": "stream",
     "text": [
      "intersect(x,y): 0 \n",
      "setdiff(x,y): 3 \n",
      "setdiff(y,x): 26 \n",
      "union(x,y): 29 \n"
     ]
    }
   ],
   "source": [
    "overlap(c('A', 'B', 'C'), letters)"
   ]
  },
  {
   "cell_type": "code",
   "execution_count": 25,
   "metadata": {
    "ExecuteTime": {
     "end_time": "2020-03-27T19:50:31.170775Z",
     "start_time": "2020-03-27T19:50:27.242Z"
    }
   },
   "outputs": [
    {
     "data": {
      "text/html": [
       "<ol class=list-inline>\n",
       "\t<li>Ideal</li>\n",
       "\t<li>Premium</li>\n",
       "\t<li>Good</li>\n",
       "\t<li>Very Good</li>\n",
       "\t<li>Fair</li>\n",
       "</ol>\n",
       "\n",
       "<details>\n",
       "\t<summary style=display:list-item;cursor:pointer>\n",
       "\t\t<strong>Levels</strong>:\n",
       "\t</summary>\n",
       "\t<ol class=list-inline>\n",
       "\t\t<li>'Fair'</li>\n",
       "\t\t<li>'Good'</li>\n",
       "\t\t<li>'Very Good'</li>\n",
       "\t\t<li>'Premium'</li>\n",
       "\t\t<li>'Ideal'</li>\n",
       "\t</ol>\n",
       "</details>"
      ],
      "text/latex": [
       "\\begin{enumerate*}\n",
       "\\item Ideal\n",
       "\\item Premium\n",
       "\\item Good\n",
       "\\item Very Good\n",
       "\\item Fair\n",
       "\\end{enumerate*}\n",
       "\n",
       "\\emph{Levels}: \\begin{enumerate*}\n",
       "\\item 'Fair'\n",
       "\\item 'Good'\n",
       "\\item 'Very Good'\n",
       "\\item 'Premium'\n",
       "\\item 'Ideal'\n",
       "\\end{enumerate*}\n"
      ],
      "text/markdown": [
       "1. Ideal\n",
       "2. Premium\n",
       "3. Good\n",
       "4. Very Good\n",
       "5. Fair\n",
       "\n",
       "\n",
       "\n",
       "**Levels**: 1. 'Fair'\n",
       "2. 'Good'\n",
       "3. 'Very Good'\n",
       "4. 'Premium'\n",
       "5. 'Ideal'\n",
       "\n",
       "\n"
      ],
      "text/plain": [
       "[1] Ideal     Premium   Good      Very Good Fair     \n",
       "Levels: Fair < Good < Very Good < Premium < Ideal"
      ]
     },
     "metadata": {},
     "output_type": "display_data"
    },
    {
     "data": {
      "text/html": [
       "<table>\n",
       "<caption>A tibble: 53940 × 10</caption>\n",
       "<thead>\n",
       "\t<tr><th scope=col>carat</th><th scope=col>cut</th><th scope=col>color</th><th scope=col>clarity</th><th scope=col>depth</th><th scope=col>table</th><th scope=col>price</th><th scope=col>x</th><th scope=col>y</th><th scope=col>z</th></tr>\n",
       "\t<tr><th scope=col>&lt;dbl&gt;</th><th scope=col>&lt;chr&gt;</th><th scope=col>&lt;ord&gt;</th><th scope=col>&lt;ord&gt;</th><th scope=col>&lt;dbl&gt;</th><th scope=col>&lt;dbl&gt;</th><th scope=col>&lt;int&gt;</th><th scope=col>&lt;dbl&gt;</th><th scope=col>&lt;dbl&gt;</th><th scope=col>&lt;dbl&gt;</th></tr>\n",
       "</thead>\n",
       "<tbody>\n",
       "\t<tr><td>0.23</td><td>Ideal  </td><td>E</td><td>SI2</td><td>61.5</td><td>55</td><td>326</td><td>3.95</td><td>3.98</td><td>2.43</td></tr>\n",
       "\t<tr><td>0.21</td><td>Premium</td><td>E</td><td>SI1</td><td>59.8</td><td>61</td><td>326</td><td>3.89</td><td>3.84</td><td>2.31</td></tr>\n",
       "\t<tr><td>⋮</td><td>⋮</td><td>⋮</td><td>⋮</td><td>⋮</td><td>⋮</td><td>⋮</td><td>⋮</td><td>⋮</td><td>⋮</td></tr>\n",
       "\t<tr><td>0.86</td><td>Premium</td><td>H</td><td>SI2</td><td>61.0</td><td>58</td><td>2757</td><td>6.15</td><td>6.12</td><td>3.74</td></tr>\n",
       "\t<tr><td>0.75</td><td>Ideal  </td><td>D</td><td>SI2</td><td>62.2</td><td>55</td><td>2757</td><td>5.83</td><td>5.87</td><td>3.64</td></tr>\n",
       "</tbody>\n",
       "</table>\n"
      ],
      "text/latex": [
       "A tibble: 53940 × 10\n",
       "\\begin{tabular}{llllllllll}\n",
       " carat & cut & color & clarity & depth & table & price & x & y & z\\\\\n",
       " <dbl> & <chr> & <ord> & <ord> & <dbl> & <dbl> & <int> & <dbl> & <dbl> & <dbl>\\\\\n",
       "\\hline\n",
       "\t 0.23 & Ideal   & E & SI2 & 61.5 & 55 & 326 & 3.95 & 3.98 & 2.43\\\\\n",
       "\t 0.21 & Premium & E & SI1 & 59.8 & 61 & 326 & 3.89 & 3.84 & 2.31\\\\\n",
       "\t ⋮ & ⋮ & ⋮ & ⋮ & ⋮ & ⋮ & ⋮ & ⋮ & ⋮ & ⋮\\\\\n",
       "\t 0.86 & Premium & H & SI2 & 61.0 & 58 & 2757 & 6.15 & 6.12 & 3.74\\\\\n",
       "\t 0.75 & Ideal   & D & SI2 & 62.2 & 55 & 2757 & 5.83 & 5.87 & 3.64\\\\\n",
       "\\end{tabular}\n"
      ],
      "text/markdown": [
       "\n",
       "A tibble: 53940 × 10\n",
       "\n",
       "| carat &lt;dbl&gt; | cut &lt;chr&gt; | color &lt;ord&gt; | clarity &lt;ord&gt; | depth &lt;dbl&gt; | table &lt;dbl&gt; | price &lt;int&gt; | x &lt;dbl&gt; | y &lt;dbl&gt; | z &lt;dbl&gt; |\n",
       "|---|---|---|---|---|---|---|---|---|---|\n",
       "| 0.23 | Ideal   | E | SI2 | 61.5 | 55 | 326 | 3.95 | 3.98 | 2.43 |\n",
       "| 0.21 | Premium | E | SI1 | 59.8 | 61 | 326 | 3.89 | 3.84 | 2.31 |\n",
       "| ⋮ | ⋮ | ⋮ | ⋮ | ⋮ | ⋮ | ⋮ | ⋮ | ⋮ | ⋮ |\n",
       "| 0.86 | Premium | H | SI2 | 61.0 | 58 | 2757 | 6.15 | 6.12 | 3.74 |\n",
       "| 0.75 | Ideal   | D | SI2 | 62.2 | 55 | 2757 | 5.83 | 5.87 | 3.64 |\n",
       "\n"
      ],
      "text/plain": [
       "      carat cut     color clarity depth table price x    y    z   \n",
       "1     0.23  Ideal   E     SI2     61.5  55    326   3.95 3.98 2.43\n",
       "2     0.21  Premium E     SI1     59.8  61    326   3.89 3.84 2.31\n",
       "⋮     ⋮     ⋮       ⋮     ⋮       ⋮     ⋮     ⋮     ⋮    ⋮    ⋮   \n",
       "53939 0.86  Premium H     SI2     61.0  58    2757  6.15 6.12 3.74\n",
       "53940 0.75  Ideal   D     SI2     62.2  55    2757  5.83 5.87 3.64"
      ]
     },
     "metadata": {},
     "output_type": "display_data"
    }
   ],
   "source": [
    "diamonds$cut %>% unique\n",
    "diamonds2 = diamonds %>%\n",
    "    mutate(cut = gsub('G', 'g', cut))\n",
    "diamonds2"
   ]
  },
  {
   "cell_type": "code",
   "execution_count": 26,
   "metadata": {
    "ExecuteTime": {
     "end_time": "2020-03-27T19:50:31.200592Z",
     "start_time": "2020-03-27T19:50:27.244Z"
    }
   },
   "outputs": [
    {
     "name": "stdout",
     "output_type": "stream",
     "text": [
      "intersect(x,y): 3 \n",
      "setdiff(x,y): 2 \n",
      "setdiff(y,x): 2 \n",
      "union(x,y): 7 \n"
     ]
    }
   ],
   "source": [
    "overlap(diamonds, diamonds2, cut, cut)"
   ]
  },
  {
   "cell_type": "code",
   "execution_count": 27,
   "metadata": {
    "ExecuteTime": {
     "end_time": "2020-03-27T19:50:31.239497Z",
     "start_time": "2020-03-27T19:50:27.249Z"
    }
   },
   "outputs": [
    {
     "name": "stdout",
     "output_type": "stream",
     "text": [
      "intersect(x,y): 3 \n",
      "setdiff(x,y): 2 \n",
      "setdiff(y,x): 2 \n",
      "union(x,y): 7 \n"
     ]
    }
   ],
   "source": [
    "overlap(diamonds %>% as.data.table, diamonds2 %>% as.data.table,  cut, cut)"
   ]
  },
  {
   "cell_type": "code",
   "execution_count": 28,
   "metadata": {
    "ExecuteTime": {
     "end_time": "2020-03-27T19:50:31.276524Z",
     "start_time": "2020-03-27T19:50:27.251Z"
    }
   },
   "outputs": [
    {
     "data": {
      "text/html": [
       "<ol class=list-inline>\n",
       "\t<li>'Good'</li>\n",
       "\t<li>'Very Good'</li>\n",
       "</ol>\n"
      ],
      "text/latex": [
       "\\begin{enumerate*}\n",
       "\\item 'Good'\n",
       "\\item 'Very Good'\n",
       "\\end{enumerate*}\n"
      ],
      "text/markdown": [
       "1. 'Good'\n",
       "2. 'Very Good'\n",
       "\n",
       "\n"
      ],
      "text/plain": [
       "[1] \"Good\"      \"Very Good\""
      ]
     },
     "metadata": {},
     "output_type": "display_data"
    }
   ],
   "source": [
    "overlap(diamonds, diamonds2, cut, cut, to_return='diff_x')"
   ]
  },
  {
   "cell_type": "code",
   "execution_count": 29,
   "metadata": {
    "ExecuteTime": {
     "end_time": "2020-03-27T19:50:31.303892Z",
     "start_time": "2020-03-27T19:50:27.254Z"
    }
   },
   "outputs": [
    {
     "data": {
      "text/html": [
       "<ol class=list-inline>\n",
       "\t<li>'good'</li>\n",
       "\t<li>'Very good'</li>\n",
       "</ol>\n"
      ],
      "text/latex": [
       "\\begin{enumerate*}\n",
       "\\item 'good'\n",
       "\\item 'Very good'\n",
       "\\end{enumerate*}\n"
      ],
      "text/markdown": [
       "1. 'good'\n",
       "2. 'Very good'\n",
       "\n",
       "\n"
      ],
      "text/plain": [
       "[1] \"good\"      \"Very good\""
      ]
     },
     "metadata": {},
     "output_type": "display_data"
    }
   ],
   "source": [
    "overlap(diamonds, diamonds2, cut, cut, to_return='diff_y')"
   ]
  },
  {
   "cell_type": "code",
   "execution_count": 30,
   "metadata": {
    "ExecuteTime": {
     "end_time": "2020-03-27T19:50:31.348038Z",
     "start_time": "2020-03-27T19:50:27.257Z"
    }
   },
   "outputs": [
    {
     "data": {
      "text/html": [
       "<table>\n",
       "<caption>A data.frame: 10 × 3</caption>\n",
       "<thead>\n",
       "\t<tr><th></th><th scope=col>x</th><th scope=col>y</th><th scope=col>dist</th></tr>\n",
       "\t<tr><th></th><th scope=col>&lt;fct&gt;</th><th scope=col>&lt;fct&gt;</th><th scope=col>&lt;dbl&gt;</th></tr>\n",
       "</thead>\n",
       "<tbody>\n",
       "\t<tr><th scope=row>5</th><td>Good     </td><td>good     </td><td>1</td></tr>\n",
       "\t<tr><th scope=row>8</th><td>Very Good</td><td>Very good</td><td>1</td></tr>\n",
       "\t<tr><th scope=row>9</th><td>Good     </td><td>Fair     </td><td>4</td></tr>\n",
       "\t<tr><th scope=row>1</th><td>Good     </td><td>Ideal    </td><td>5</td></tr>\n",
       "\t<tr><th scope=row>6</th><td>Very Good</td><td>good     </td><td>6</td></tr>\n",
       "\t<tr><th scope=row>7</th><td>Good     </td><td>Very good</td><td>6</td></tr>\n",
       "\t<tr><th scope=row>3</th><td>Good     </td><td>Premium  </td><td>7</td></tr>\n",
       "\t<tr><th scope=row>4</th><td>Very Good</td><td>Premium  </td><td>8</td></tr>\n",
       "\t<tr><th scope=row>2</th><td>Very Good</td><td>Ideal    </td><td>9</td></tr>\n",
       "\t<tr><th scope=row>10</th><td>Very Good</td><td>Fair     </td><td>9</td></tr>\n",
       "</tbody>\n",
       "</table>\n"
      ],
      "text/latex": [
       "A data.frame: 10 × 3\n",
       "\\begin{tabular}{r|lll}\n",
       "  & x & y & dist\\\\\n",
       "  & <fct> & <fct> & <dbl>\\\\\n",
       "\\hline\n",
       "\t5 & Good      & good      & 1\\\\\n",
       "\t8 & Very Good & Very good & 1\\\\\n",
       "\t9 & Good      & Fair      & 4\\\\\n",
       "\t1 & Good      & Ideal     & 5\\\\\n",
       "\t6 & Very Good & good      & 6\\\\\n",
       "\t7 & Good      & Very good & 6\\\\\n",
       "\t3 & Good      & Premium   & 7\\\\\n",
       "\t4 & Very Good & Premium   & 8\\\\\n",
       "\t2 & Very Good & Ideal     & 9\\\\\n",
       "\t10 & Very Good & Fair      & 9\\\\\n",
       "\\end{tabular}\n"
      ],
      "text/markdown": [
       "\n",
       "A data.frame: 10 × 3\n",
       "\n",
       "| <!--/--> | x &lt;fct&gt; | y &lt;fct&gt; | dist &lt;dbl&gt; |\n",
       "|---|---|---|---|\n",
       "| 5 | Good      | good      | 1 |\n",
       "| 8 | Very Good | Very good | 1 |\n",
       "| 9 | Good      | Fair      | 4 |\n",
       "| 1 | Good      | Ideal     | 5 |\n",
       "| 6 | Very Good | good      | 6 |\n",
       "| 7 | Good      | Very good | 6 |\n",
       "| 3 | Good      | Premium   | 7 |\n",
       "| 4 | Very Good | Premium   | 8 |\n",
       "| 2 | Very Good | Ideal     | 9 |\n",
       "| 10 | Very Good | Fair      | 9 |\n",
       "\n"
      ],
      "text/plain": [
       "   x         y         dist\n",
       "5  Good      good      1   \n",
       "8  Very Good Very good 1   \n",
       "9  Good      Fair      4   \n",
       "1  Good      Ideal     5   \n",
       "6  Very Good good      6   \n",
       "7  Good      Very good 6   \n",
       "3  Good      Premium   7   \n",
       "4  Very Good Premium   8   \n",
       "2  Very Good Ideal     9   \n",
       "10 Very Good Fair      9   "
      ]
     },
     "metadata": {},
     "output_type": "display_data"
    }
   ],
   "source": [
    "df.dims(20)\n",
    "overlap(diamonds, diamonds2, cut, cut, to_return='diff_fuzzy')\n",
    "df.dims()"
   ]
  },
  {
   "cell_type": "markdown",
   "metadata": {},
   "source": [
    "# IO"
   ]
  },
  {
   "cell_type": "markdown",
   "metadata": {},
   "source": [
    "## list_files()\n",
    "\n",
    "* Recursive list of files, with full paths returned"
   ]
  },
  {
   "cell_type": "code",
   "execution_count": 31,
   "metadata": {
    "ExecuteTime": {
     "end_time": "2020-03-27T19:50:31.628461Z",
     "start_time": "2020-03-27T19:50:27.260Z"
    }
   },
   "outputs": [
    {
     "data": {
      "text/html": [
       "<ol class=list-inline>\n",
       "\t<li>'/ebio/abt3_projects/software/dev/llmgp/tests/output_amy_n6_GTDB/kraken//by-sample/2_T3_bracken.tsv'</li>\n",
       "\t<li>'/ebio/abt3_projects/software/dev/llmgp/tests/output_amy_n6_GTDB/kraken//by-sample/36_T6_bracken.tsv'</li>\n",
       "\t<li>'/ebio/abt3_projects/software/dev/llmgp/tests/output_amy_n6_GTDB/kraken//by-sample/88_T6_bracken.tsv'</li>\n",
       "\t<li>'/ebio/abt3_projects/software/dev/llmgp/tests/output_amy_n6_GTDB/kraken//by-sample/93_T3_bracken.tsv'</li>\n",
       "\t<li>'/ebio/abt3_projects/software/dev/llmgp/tests/output_amy_n6_GTDB/kraken//by-sample/93_T7_bracken.tsv'</li>\n",
       "\t<li>'/ebio/abt3_projects/software/dev/llmgp/tests/output_amy_n6_GTDB/kraken//by-sample/97_T6_bracken.tsv'</li>\n",
       "</ol>\n"
      ],
      "text/latex": [
       "\\begin{enumerate*}\n",
       "\\item '/ebio/abt3\\_projects/software/dev/llmgp/tests/output\\_amy\\_n6\\_GTDB/kraken//by-sample/2\\_T3\\_bracken.tsv'\n",
       "\\item '/ebio/abt3\\_projects/software/dev/llmgp/tests/output\\_amy\\_n6\\_GTDB/kraken//by-sample/36\\_T6\\_bracken.tsv'\n",
       "\\item '/ebio/abt3\\_projects/software/dev/llmgp/tests/output\\_amy\\_n6\\_GTDB/kraken//by-sample/88\\_T6\\_bracken.tsv'\n",
       "\\item '/ebio/abt3\\_projects/software/dev/llmgp/tests/output\\_amy\\_n6\\_GTDB/kraken//by-sample/93\\_T3\\_bracken.tsv'\n",
       "\\item '/ebio/abt3\\_projects/software/dev/llmgp/tests/output\\_amy\\_n6\\_GTDB/kraken//by-sample/93\\_T7\\_bracken.tsv'\n",
       "\\item '/ebio/abt3\\_projects/software/dev/llmgp/tests/output\\_amy\\_n6\\_GTDB/kraken//by-sample/97\\_T6\\_bracken.tsv'\n",
       "\\end{enumerate*}\n"
      ],
      "text/markdown": [
       "1. '/ebio/abt3_projects/software/dev/llmgp/tests/output_amy_n6_GTDB/kraken//by-sample/2_T3_bracken.tsv'\n",
       "2. '/ebio/abt3_projects/software/dev/llmgp/tests/output_amy_n6_GTDB/kraken//by-sample/36_T6_bracken.tsv'\n",
       "3. '/ebio/abt3_projects/software/dev/llmgp/tests/output_amy_n6_GTDB/kraken//by-sample/88_T6_bracken.tsv'\n",
       "4. '/ebio/abt3_projects/software/dev/llmgp/tests/output_amy_n6_GTDB/kraken//by-sample/93_T3_bracken.tsv'\n",
       "5. '/ebio/abt3_projects/software/dev/llmgp/tests/output_amy_n6_GTDB/kraken//by-sample/93_T7_bracken.tsv'\n",
       "6. '/ebio/abt3_projects/software/dev/llmgp/tests/output_amy_n6_GTDB/kraken//by-sample/97_T6_bracken.tsv'\n",
       "\n",
       "\n"
      ],
      "text/plain": [
       "[1] \"/ebio/abt3_projects/software/dev/llmgp/tests/output_amy_n6_GTDB/kraken//by-sample/2_T3_bracken.tsv\" \n",
       "[2] \"/ebio/abt3_projects/software/dev/llmgp/tests/output_amy_n6_GTDB/kraken//by-sample/36_T6_bracken.tsv\"\n",
       "[3] \"/ebio/abt3_projects/software/dev/llmgp/tests/output_amy_n6_GTDB/kraken//by-sample/88_T6_bracken.tsv\"\n",
       "[4] \"/ebio/abt3_projects/software/dev/llmgp/tests/output_amy_n6_GTDB/kraken//by-sample/93_T3_bracken.tsv\"\n",
       "[5] \"/ebio/abt3_projects/software/dev/llmgp/tests/output_amy_n6_GTDB/kraken//by-sample/93_T7_bracken.tsv\"\n",
       "[6] \"/ebio/abt3_projects/software/dev/llmgp/tests/output_amy_n6_GTDB/kraken//by-sample/97_T6_bracken.tsv\""
      ]
     },
     "metadata": {},
     "output_type": "display_data"
    }
   ],
   "source": [
    "D = '/ebio/abt3_projects/software/dev/llmgp/tests/output_amy_n6_GTDB/kraken/'\n",
    "F = list_files(D, '*_bracken.tsv')\n",
    "F"
   ]
  },
  {
   "cell_type": "code",
   "execution_count": 32,
   "metadata": {
    "ExecuteTime": {
     "end_time": "2020-03-27T19:50:31.695603Z",
     "start_time": "2020-03-27T19:50:27.263Z"
    }
   },
   "outputs": [
    {
     "name": "stdout",
     "output_type": "stream",
     "text": [
      "No. of unique Samples: 6 \n"
     ]
    },
    {
     "data": {
      "text/html": [
       "<table>\n",
       "<caption>A data.table: 4871 × 8</caption>\n",
       "<thead>\n",
       "\t<tr><th scope=col>sample</th><th scope=col>name</th><th scope=col>taxonomy_id</th><th scope=col>taxonomy_lvl</th><th scope=col>kraken_assigned_reads</th><th scope=col>added_reads</th><th scope=col>new_est_reads</th><th scope=col>fraction_total_reads</th></tr>\n",
       "\t<tr><th scope=col>&lt;chr&gt;</th><th scope=col>&lt;chr&gt;</th><th scope=col>&lt;int&gt;</th><th scope=col>&lt;chr&gt;</th><th scope=col>&lt;int&gt;</th><th scope=col>&lt;int&gt;</th><th scope=col>&lt;int&gt;</th><th scope=col>&lt;dbl&gt;</th></tr>\n",
       "</thead>\n",
       "<tbody>\n",
       "\t<tr><td>2_T3_bracken.tsv</td><td>s__CAG-170 sp002298695</td><td>159807</td><td>S</td><td> 271</td><td> 22</td><td> 293</td><td>0.00080</td></tr>\n",
       "\t<tr><td>2_T3_bracken.tsv</td><td>s__CAG-103 sp000432375</td><td>145754</td><td>S</td><td>1050</td><td>120</td><td>1170</td><td>0.00318</td></tr>\n",
       "\t<tr><td>⋮</td><td>⋮</td><td>⋮</td><td>⋮</td><td>⋮</td><td>⋮</td><td>⋮</td><td>⋮</td></tr>\n",
       "\t<tr><td>97_T6_bracken.tsv</td><td>s__Bacteroides_A barnesiae </td><td>126209</td><td>S</td><td>136</td><td>6</td><td>142</td><td>0.00034</td></tr>\n",
       "\t<tr><td>97_T6_bracken.tsv</td><td>s__Pauljensenia sp000466265</td><td>139772</td><td>S</td><td> 13</td><td>2</td><td> 15</td><td>0.00004</td></tr>\n",
       "</tbody>\n",
       "</table>\n"
      ],
      "text/latex": [
       "A data.table: 4871 × 8\n",
       "\\begin{tabular}{llllllll}\n",
       " sample & name & taxonomy\\_id & taxonomy\\_lvl & kraken\\_assigned\\_reads & added\\_reads & new\\_est\\_reads & fraction\\_total\\_reads\\\\\n",
       " <chr> & <chr> & <int> & <chr> & <int> & <int> & <int> & <dbl>\\\\\n",
       "\\hline\n",
       "\t 2\\_T3\\_bracken.tsv & s\\_\\_CAG-170 sp002298695 & 159807 & S &  271 &  22 &  293 & 0.00080\\\\\n",
       "\t 2\\_T3\\_bracken.tsv & s\\_\\_CAG-103 sp000432375 & 145754 & S & 1050 & 120 & 1170 & 0.00318\\\\\n",
       "\t ⋮ & ⋮ & ⋮ & ⋮ & ⋮ & ⋮ & ⋮ & ⋮\\\\\n",
       "\t 97\\_T6\\_bracken.tsv & s\\_\\_Bacteroides\\_A barnesiae  & 126209 & S & 136 & 6 & 142 & 0.00034\\\\\n",
       "\t 97\\_T6\\_bracken.tsv & s\\_\\_Pauljensenia sp000466265 & 139772 & S &  13 & 2 &  15 & 0.00004\\\\\n",
       "\\end{tabular}\n"
      ],
      "text/markdown": [
       "\n",
       "A data.table: 4871 × 8\n",
       "\n",
       "| sample &lt;chr&gt; | name &lt;chr&gt; | taxonomy_id &lt;int&gt; | taxonomy_lvl &lt;chr&gt; | kraken_assigned_reads &lt;int&gt; | added_reads &lt;int&gt; | new_est_reads &lt;int&gt; | fraction_total_reads &lt;dbl&gt; |\n",
       "|---|---|---|---|---|---|---|---|\n",
       "| 2_T3_bracken.tsv | s__CAG-170 sp002298695 | 159807 | S |  271 |  22 |  293 | 0.00080 |\n",
       "| 2_T3_bracken.tsv | s__CAG-103 sp000432375 | 145754 | S | 1050 | 120 | 1170 | 0.00318 |\n",
       "| ⋮ | ⋮ | ⋮ | ⋮ | ⋮ | ⋮ | ⋮ | ⋮ |\n",
       "| 97_T6_bracken.tsv | s__Bacteroides_A barnesiae  | 126209 | S | 136 | 6 | 142 | 0.00034 |\n",
       "| 97_T6_bracken.tsv | s__Pauljensenia sp000466265 | 139772 | S |  13 | 2 |  15 | 0.00004 |\n",
       "\n"
      ],
      "text/plain": [
       "     sample            name                        taxonomy_id taxonomy_lvl\n",
       "1    2_T3_bracken.tsv  s__CAG-170 sp002298695      159807      S           \n",
       "2    2_T3_bracken.tsv  s__CAG-103 sp000432375      145754      S           \n",
       "⋮    ⋮                 ⋮                           ⋮           ⋮           \n",
       "4870 97_T6_bracken.tsv s__Bacteroides_A barnesiae  126209      S           \n",
       "4871 97_T6_bracken.tsv s__Pauljensenia sp000466265 139772      S           \n",
       "     kraken_assigned_reads added_reads new_est_reads fraction_total_reads\n",
       "1     271                   22          293          0.00080             \n",
       "2    1050                  120         1170          0.00318             \n",
       "⋮    ⋮                     ⋮           ⋮             ⋮                   \n",
       "4870 136                   6           142           0.00034             \n",
       "4871  13                   2            15           0.00004             "
      ]
     },
     "metadata": {},
     "output_type": "display_data"
    }
   ],
   "source": [
    "dt = list_files(D, '*_bracken.tsv') %>% \n",
    "    files_to_list(label_index=0) %>%\n",
    "    lapply(Fread) %>%\n",
    "    data.table::rbindlist(idcol='sample')\n",
    "\n",
    "dt %>% unique_n('Samples', sample)\n",
    "dt"
   ]
  },
  {
   "cell_type": "code",
   "execution_count": 33,
   "metadata": {
    "ExecuteTime": {
     "end_time": "2020-03-27T19:50:31.757229Z",
     "start_time": "2020-03-27T19:50:27.266Z"
    }
   },
   "outputs": [
    {
     "data": {
      "text/html": [
       "<ol class=list-inline>\n",
       "\t<li>'2_T3_bracken.tsv'</li>\n",
       "\t<li>'36_T6_bracken.tsv'</li>\n",
       "\t<li>'88_T6_bracken.tsv'</li>\n",
       "\t<li>'93_T3_bracken.tsv'</li>\n",
       "\t<li>'93_T7_bracken.tsv'</li>\n",
       "\t<li>'97_T6_bracken.tsv'</li>\n",
       "</ol>\n"
      ],
      "text/latex": [
       "\\begin{enumerate*}\n",
       "\\item '2\\_T3\\_bracken.tsv'\n",
       "\\item '36\\_T6\\_bracken.tsv'\n",
       "\\item '88\\_T6\\_bracken.tsv'\n",
       "\\item '93\\_T3\\_bracken.tsv'\n",
       "\\item '93\\_T7\\_bracken.tsv'\n",
       "\\item '97\\_T6\\_bracken.tsv'\n",
       "\\end{enumerate*}\n"
      ],
      "text/markdown": [
       "1. '2_T3_bracken.tsv'\n",
       "2. '36_T6_bracken.tsv'\n",
       "3. '88_T6_bracken.tsv'\n",
       "4. '93_T3_bracken.tsv'\n",
       "5. '93_T7_bracken.tsv'\n",
       "6. '97_T6_bracken.tsv'\n",
       "\n",
       "\n"
      ],
      "text/plain": [
       "[1] \"2_T3_bracken.tsv\"  \"36_T6_bracken.tsv\" \"88_T6_bracken.tsv\"\n",
       "[4] \"93_T3_bracken.tsv\" \"93_T7_bracken.tsv\" \"97_T6_bracken.tsv\""
      ]
     },
     "metadata": {},
     "output_type": "display_data"
    }
   ],
   "source": [
    "dt %>% dt_distinct(sample) %>% dt_pull(sample)"
   ]
  },
  {
   "cell_type": "markdown",
   "metadata": {},
   "source": [
    "## make_dir()\n",
    "\n",
    "* create directory (if needed)"
   ]
  },
  {
   "cell_type": "code",
   "execution_count": 34,
   "metadata": {
    "ExecuteTime": {
     "end_time": "2020-03-27T19:50:31.826630Z",
     "start_time": "2020-03-27T19:50:27.269Z"
    }
   },
   "outputs": [
    {
     "name": "stdout",
     "output_type": "stream",
     "text": [
      "Directory already exists: /ebio/abt3_projects/software/dev/tmp/TEST_DIR/ \n"
     ]
    }
   ],
   "source": [
    "D = '/ebio/abt3_projects/software/dev/tmp/TEST_DIR/'\n",
    "make_dir(D) "
   ]
  },
  {
   "cell_type": "code",
   "execution_count": 35,
   "metadata": {
    "ExecuteTime": {
     "end_time": "2020-03-27T19:50:31.840920Z",
     "start_time": "2020-03-27T19:50:27.272Z"
    }
   },
   "outputs": [],
   "source": [
    "#unlink(D, recursive = TRUE)"
   ]
  },
  {
   "cell_type": "markdown",
   "metadata": {},
   "source": [
    "## write_table()\n",
    "\n",
    "* Write tab-delim table"
   ]
  },
  {
   "cell_type": "code",
   "execution_count": 36,
   "metadata": {
    "ExecuteTime": {
     "end_time": "2020-03-27T19:50:31.915043Z",
     "start_time": "2020-03-27T19:50:27.276Z"
    }
   },
   "outputs": [
    {
     "name": "stdout",
     "output_type": "stream",
     "text": [
      "File written: /ebio/abt3_projects/software/dev/tmp/TEST_DIR//bracken_combined.tsv \n"
     ]
    }
   ],
   "source": [
    "out_file = file.path(D, 'bracken_combined.tsv')\n",
    "dt %>% write_table(out_file)"
   ]
  },
  {
   "cell_type": "markdown",
   "metadata": {},
   "source": [
    "## Fread()\n",
    "\n",
    "* `fread()` with `sep = \"\\t\", check.names = TRUE`"
   ]
  },
  {
   "cell_type": "code",
   "execution_count": 37,
   "metadata": {
    "ExecuteTime": {
     "end_time": "2020-03-27T19:50:32.194509Z",
     "start_time": "2020-03-27T19:50:27.279Z"
    }
   },
   "outputs": [
    {
     "data": {
      "text/html": [
       "<table>\n",
       "<caption>A data.table: 100 × 2</caption>\n",
       "<thead>\n",
       "\t<tr><th scope=col>V1</th><th scope=col>V2</th></tr>\n",
       "\t<tr><th scope=col>&lt;chr&gt;</th><th scope=col>&lt;chr&gt;</th></tr>\n",
       "</thead>\n",
       "<tbody>\n",
       "\t<tr><td>UniRef50_Q6GZX4</td><td>Putative transcription factor 001R</td></tr>\n",
       "\t<tr><td>UniRef50_Q6GZW6</td><td>Putative helicase 009L            </td></tr>\n",
       "\t<tr><td>⋮</td><td>⋮</td></tr>\n",
       "\t<tr><td>UniRef50_P46731</td><td>18 kDa antigen 2</td></tr>\n",
       "\t<tr><td>UniRef50_P12809</td><td>18 kDa antigen  </td></tr>\n",
       "</tbody>\n",
       "</table>\n"
      ],
      "text/latex": [
       "A data.table: 100 × 2\n",
       "\\begin{tabular}{ll}\n",
       " V1 & V2\\\\\n",
       " <chr> & <chr>\\\\\n",
       "\\hline\n",
       "\t UniRef50\\_Q6GZX4 & Putative transcription factor 001R\\\\\n",
       "\t UniRef50\\_Q6GZW6 & Putative helicase 009L            \\\\\n",
       "\t ⋮ & ⋮\\\\\n",
       "\t UniRef50\\_P46731 & 18 kDa antigen 2\\\\\n",
       "\t UniRef50\\_P12809 & 18 kDa antigen  \\\\\n",
       "\\end{tabular}\n"
      ],
      "text/markdown": [
       "\n",
       "A data.table: 100 × 2\n",
       "\n",
       "| V1 &lt;chr&gt; | V2 &lt;chr&gt; |\n",
       "|---|---|\n",
       "| UniRef50_Q6GZX4 | Putative transcription factor 001R |\n",
       "| UniRef50_Q6GZW6 | Putative helicase 009L             |\n",
       "| ⋮ | ⋮ |\n",
       "| UniRef50_P46731 | 18 kDa antigen 2 |\n",
       "| UniRef50_P12809 | 18 kDa antigen   |\n",
       "\n"
      ],
      "text/plain": [
       "    V1              V2                                \n",
       "1   UniRef50_Q6GZX4 Putative transcription factor 001R\n",
       "2   UniRef50_Q6GZW6 Putative helicase 009L            \n",
       "⋮   ⋮               ⋮                                 \n",
       "99  UniRef50_P46731 18 kDa antigen 2                  \n",
       "100 UniRef50_P12809 18 kDa antigen                    "
      ]
     },
     "metadata": {},
     "output_type": "display_data"
    }
   ],
   "source": [
    "infile = '/ebio/abt3_projects/databases_no-backup/humann2/utility_mapping/map_uniref50_name.txt.bz2'\n",
    "cmd = glue::glue('bzip2 -c -d {file} | head -n 100', file=infile)\n",
    "fread(cmd=cmd, sep='\\t', fill=TRUE, header=FALSE)"
   ]
  },
  {
   "cell_type": "code",
   "execution_count": 38,
   "metadata": {
    "ExecuteTime": {
     "end_time": "2020-03-27T19:50:32.276659Z",
     "start_time": "2020-03-27T19:50:27.281Z"
    }
   },
   "outputs": [
    {
     "data": {
      "text/html": [
       "<table>\n",
       "<caption>A data.table: 99 × 2</caption>\n",
       "<thead>\n",
       "\t<tr><th scope=col>UniRef50_Q6GZX4</th><th scope=col>Putative.transcription.factor.001R</th></tr>\n",
       "\t<tr><th scope=col>&lt;chr&gt;</th><th scope=col>&lt;chr&gt;</th></tr>\n",
       "</thead>\n",
       "<tbody>\n",
       "\t<tr><td>UniRef50_Q6GZW6</td><td>Putative helicase 009L                       </td></tr>\n",
       "\t<tr><td>UniRef50_Q6GZV6</td><td>Putative serine/threonine-protein kinase 019R</td></tr>\n",
       "\t<tr><td>⋮</td><td>⋮</td></tr>\n",
       "\t<tr><td>UniRef50_P46731</td><td>18 kDa antigen 2</td></tr>\n",
       "\t<tr><td>UniRef50_P12809</td><td>18 kDa antigen  </td></tr>\n",
       "</tbody>\n",
       "</table>\n"
      ],
      "text/latex": [
       "A data.table: 99 × 2\n",
       "\\begin{tabular}{ll}\n",
       " UniRef50\\_Q6GZX4 & Putative.transcription.factor.001R\\\\\n",
       " <chr> & <chr>\\\\\n",
       "\\hline\n",
       "\t UniRef50\\_Q6GZW6 & Putative helicase 009L                       \\\\\n",
       "\t UniRef50\\_Q6GZV6 & Putative serine/threonine-protein kinase 019R\\\\\n",
       "\t ⋮ & ⋮\\\\\n",
       "\t UniRef50\\_P46731 & 18 kDa antigen 2\\\\\n",
       "\t UniRef50\\_P12809 & 18 kDa antigen  \\\\\n",
       "\\end{tabular}\n"
      ],
      "text/markdown": [
       "\n",
       "A data.table: 99 × 2\n",
       "\n",
       "| UniRef50_Q6GZX4 &lt;chr&gt; | Putative.transcription.factor.001R &lt;chr&gt; |\n",
       "|---|---|\n",
       "| UniRef50_Q6GZW6 | Putative helicase 009L                        |\n",
       "| UniRef50_Q6GZV6 | Putative serine/threonine-protein kinase 019R |\n",
       "| ⋮ | ⋮ |\n",
       "| UniRef50_P46731 | 18 kDa antigen 2 |\n",
       "| UniRef50_P12809 | 18 kDa antigen   |\n",
       "\n"
      ],
      "text/plain": [
       "   UniRef50_Q6GZX4 Putative.transcription.factor.001R           \n",
       "1  UniRef50_Q6GZW6 Putative helicase 009L                       \n",
       "2  UniRef50_Q6GZV6 Putative serine/threonine-protein kinase 019R\n",
       "⋮  ⋮               ⋮                                            \n",
       "98 UniRef50_P46731 18 kDa antigen 2                             \n",
       "99 UniRef50_P12809 18 kDa antigen                               "
      ]
     },
     "metadata": {},
     "output_type": "display_data"
    }
   ],
   "source": [
    "infile = '/ebio/abt3_projects/databases_no-backup/humann2/utility_mapping/map_uniref50_name.txt.bz2'\n",
    "cmd = glue::glue('bzip2 -c -d {file} | head -n 100', file=infile)\n",
    "Fread(cmd=cmd)"
   ]
  },
  {
   "cell_type": "markdown",
   "metadata": {},
   "source": [
    "# Plot"
   ]
  },
  {
   "cell_type": "markdown",
   "metadata": {},
   "source": [
    "## p.dims()\n",
    "\n",
    "* Formatting plot dimensions"
   ]
  },
  {
   "cell_type": "code",
   "execution_count": 39,
   "metadata": {
    "ExecuteTime": {
     "end_time": "2020-03-27T19:50:32.309375Z",
     "start_time": "2020-03-27T19:50:27.284Z"
    }
   },
   "outputs": [
    {
     "data": {
      "text/html": [
       "<table>\n",
       "<caption>A data.frame: 150 × 5</caption>\n",
       "<thead>\n",
       "\t<tr><th scope=col>Sepal.Length</th><th scope=col>Sepal.Width</th><th scope=col>Petal.Length</th><th scope=col>Petal.Width</th><th scope=col>Species</th></tr>\n",
       "\t<tr><th scope=col>&lt;dbl&gt;</th><th scope=col>&lt;dbl&gt;</th><th scope=col>&lt;dbl&gt;</th><th scope=col>&lt;dbl&gt;</th><th scope=col>&lt;fct&gt;</th></tr>\n",
       "</thead>\n",
       "<tbody>\n",
       "\t<tr><td>5.1</td><td>3.5</td><td>1.4</td><td>0.2</td><td>setosa</td></tr>\n",
       "\t<tr><td>4.9</td><td>3.0</td><td>1.4</td><td>0.2</td><td>setosa</td></tr>\n",
       "\t<tr><td>⋮</td><td>⋮</td><td>⋮</td><td>⋮</td><td>⋮</td></tr>\n",
       "\t<tr><td>6.2</td><td>3.4</td><td>5.4</td><td>2.3</td><td>virginica</td></tr>\n",
       "\t<tr><td>5.9</td><td>3.0</td><td>5.1</td><td>1.8</td><td>virginica</td></tr>\n",
       "</tbody>\n",
       "</table>\n"
      ],
      "text/latex": [
       "A data.frame: 150 × 5\n",
       "\\begin{tabular}{lllll}\n",
       " Sepal.Length & Sepal.Width & Petal.Length & Petal.Width & Species\\\\\n",
       " <dbl> & <dbl> & <dbl> & <dbl> & <fct>\\\\\n",
       "\\hline\n",
       "\t 5.1 & 3.5 & 1.4 & 0.2 & setosa\\\\\n",
       "\t 4.9 & 3.0 & 1.4 & 0.2 & setosa\\\\\n",
       "\t ⋮ & ⋮ & ⋮ & ⋮ & ⋮\\\\\n",
       "\t 6.2 & 3.4 & 5.4 & 2.3 & virginica\\\\\n",
       "\t 5.9 & 3.0 & 5.1 & 1.8 & virginica\\\\\n",
       "\\end{tabular}\n"
      ],
      "text/markdown": [
       "\n",
       "A data.frame: 150 × 5\n",
       "\n",
       "| Sepal.Length &lt;dbl&gt; | Sepal.Width &lt;dbl&gt; | Petal.Length &lt;dbl&gt; | Petal.Width &lt;dbl&gt; | Species &lt;fct&gt; |\n",
       "|---|---|---|---|---|\n",
       "| 5.1 | 3.5 | 1.4 | 0.2 | setosa |\n",
       "| 4.9 | 3.0 | 1.4 | 0.2 | setosa |\n",
       "| ⋮ | ⋮ | ⋮ | ⋮ | ⋮ |\n",
       "| 6.2 | 3.4 | 5.4 | 2.3 | virginica |\n",
       "| 5.9 | 3.0 | 5.1 | 1.8 | virginica |\n",
       "\n"
      ],
      "text/plain": [
       "    Sepal.Length Sepal.Width Petal.Length Petal.Width Species  \n",
       "1   5.1          3.5         1.4          0.2         setosa   \n",
       "2   4.9          3.0         1.4          0.2         setosa   \n",
       "⋮   ⋮            ⋮           ⋮            ⋮           ⋮        \n",
       "149 6.2          3.4         5.4          2.3         virginica\n",
       "150 5.9          3.0         5.1          1.8         virginica"
      ]
     },
     "metadata": {},
     "output_type": "display_data"
    }
   ],
   "source": [
    "iris"
   ]
  },
  {
   "cell_type": "code",
   "execution_count": 40,
   "metadata": {
    "ExecuteTime": {
     "end_time": "2020-03-27T19:50:34.254836Z",
     "start_time": "2020-03-27T19:50:27.286Z"
    }
   },
   "outputs": [
    {
     "data": {
      "image/png": "[encoded data removed]",
      "text/plain": [
       "plot without title"
      ]
     },
     "metadata": {
      "image/png": {
       "height": 400,
       "width": 500
      },
      "text/plain": {
       "height": 400,
       "width": 500
      }
     },
     "output_type": "display_data"
    }
   ],
   "source": [
    "p = iris %>%\n",
    "    ggplot(aes(Sepal.Length, Sepal.Width, color=Species)) +\n",
    "    geom_point() +\n",
    "    theme_bw()\n",
    "\n",
    "p.dims(5,4)\n",
    "plot(p)"
   ]
  },
  {
   "cell_type": "code",
   "execution_count": 41,
   "metadata": {
    "ExecuteTime": {
     "end_time": "2020-03-27T19:50:34.658089Z",
     "start_time": "2020-03-27T19:50:27.288Z"
    }
   },
   "outputs": [
    {
     "data": {
      "image/png": "[encoded data removed]",
      "text/plain": [
       "plot without title"
      ]
     },
     "metadata": {
      "image/png": {
       "height": 200,
       "width": 300
      },
      "text/plain": {
       "height": 200,
       "width": 300
      }
     },
     "output_type": "display_data"
    }
   ],
   "source": [
    "p.dims(3,2)\n",
    "plot(p)"
   ]
  },
  {
   "cell_type": "code",
   "execution_count": 42,
   "metadata": {
    "ExecuteTime": {
     "end_time": "2020-03-27T19:50:35.125046Z",
     "start_time": "2020-03-27T19:50:27.291Z"
    }
   },
   "outputs": [
    {
     "data": {
      "image/png": "[encoded data removed]",
      "text/plain": [
       "plot without title"
      ]
     },
     "metadata": {
      "image/png": {
       "height": 600,
       "width": 750
      },
      "text/plain": {
       "height": 600,
       "width": 750
      }
     },
     "output_type": "display_data"
    }
   ],
   "source": [
    "p.dims(5,4,res=300)\n",
    "plot(p)"
   ]
  },
  {
   "cell_type": "markdown",
   "metadata": {},
   "source": [
    "## Plot()\n",
    "\n",
    "* Creating plot & writing the object to a file"
   ]
  },
  {
   "cell_type": "code",
   "execution_count": 43,
   "metadata": {
    "ExecuteTime": {
     "end_time": "2020-03-27T19:50:35.715729Z",
     "start_time": "2020-03-27T19:50:27.293Z"
    }
   },
   "outputs": [
    {
     "data": {
      "image/png": "[encoded data removed]",
      "text/plain": [
       "plot without title"
      ]
     },
     "metadata": {
      "image/png": {
       "height": 400,
       "width": 500
      },
      "text/plain": {
       "height": 400,
       "width": 500
      }
     },
     "output_type": "display_data"
    }
   ],
   "source": [
    "p.dims(5,4)\n",
    "plot(p)"
   ]
  },
  {
   "cell_type": "code",
   "execution_count": 44,
   "metadata": {
    "ExecuteTime": {
     "end_time": "2020-03-27T19:50:36.097305Z",
     "start_time": "2020-03-27T19:50:27.296Z"
    }
   },
   "outputs": [
    {
     "name": "stdout",
     "output_type": "stream",
     "text": [
      "File written: /ebio/abt3_projects/Georg_animal_feces/tmp/ipynb_sandbox/.figures/9215c5be3ee16139071640e63ab5e5d8.RDS \n"
     ]
    },
    {
     "data": {
      "image/png": "[encoded data removed]",
      "text/plain": [
       "plot without title"
      ]
     },
     "metadata": {
      "image/png": {
       "height": 200,
       "width": 500
      },
      "text/plain": {
       "height": 200,
       "width": 500
      }
     },
     "output_type": "display_data"
    }
   ],
   "source": [
    "p.dims(5,2)\n",
    "Plot(p)"
   ]
  },
  {
   "cell_type": "markdown",
   "metadata": {},
   "source": [
    "# System"
   ]
  },
  {
   "cell_type": "markdown",
   "metadata": {},
   "source": [
    "## bash_job()\n",
    "\n",
    "* Wrapper around `system2()` that auto-activates a conda env"
   ]
  },
  {
   "cell_type": "code",
   "execution_count": 45,
   "metadata": {
    "ExecuteTime": {
     "end_time": "2020-03-27T19:50:40.023111Z",
     "start_time": "2020-03-27T19:50:27.299Z"
    }
   },
   "outputs": [
    {
     "name": "stdout",
     "output_type": "stream",
     "text": [
      "total 24K\n",
      "-rw-r--r-- 1 nyoungblut abt3 24K Mar 27 17:18 LeyLabRMisc_tutorial.ipynb"
     ]
    },
    {
     "data": {
      "text/plain": [
       "NULL"
      ]
     },
     "metadata": {},
     "output_type": "display_data"
    }
   ],
   "source": [
    "bash_job('ls -thlc', conda_env='py3')"
   ]
  },
  {
   "cell_type": "code",
   "execution_count": 46,
   "metadata": {
    "ExecuteTime": {
     "end_time": "2020-03-27T19:50:55.650118Z",
     "start_time": "2020-03-27T19:50:27.301Z"
    }
   },
   "outputs": [
    {
     "name": "stdout",
     "output_type": "stream",
     "text": [
      "# packages in environment at /ebio/abt3_projects/software/miniconda3_gt4.4/envs/py3:\n",
      "#\n",
      "# Name                    Version                   Build  Channel\n",
      "_r-mutex                  1.0.1               anacondar_1    conda-forge\n",
      "appdirs                   1.4.3                      py_1    conda-forge\n",
      "asn1crypto                0.24.0                     py_1    conda-forge\n",
      "attrs                     18.1.0                     py_1    conda-forge\n",
      "automat                   0.7.0                    py36_0    conda-forge\n",
      "backcall                  0.1.0                      py_0    conda-forge\n",
      "blas                      1.1                    openblas    conda-forge\n",
      "bleach                    2.1.3                      py_0    conda-forge\n",
      "bzip2                     1.0.6                h470a237_2    conda-forge\n",
      "ca-certificates           2019.11.28           hecc5488_0    conda-forge\n",
      "cairo                     1.14.12              he56eebe_3    conda-forge\n",
      "certifi                   2019.11.28       py36h9f0ad1d_1    conda-forge\n",
      "cffi                      1.11.5           py36h5e8e0c9_1    conda-forge\n",
      "chardet                   3.0.4           py36h9f0ad1d_1006    conda-forge\n",
      "constantly                15.1.0                     py_0    conda-forge\n",
      "cryptography              2.3              py36hdffb7b8_0    conda-forge\n",
      "cryptography-vectors      2.3                      py36_1    conda-forge\n",
      "curl                      7.61.0               h93b3f91_1    conda-forge\n",
      "decorator                 4.3.0                      py_0    conda-forge\n",
      "entrypoints               0.2.3                    py36_1    conda-forge\n",
      "fontconfig                2.13.0               h0c61d53_4    conda-forge\n",
      "freetype                  2.8.1                hfa320df_1    conda-forge\n",
      "gettext                   0.19.8.1                      0    conda-forge\n",
      "glib                      2.55.0               h464dc38_2    conda-forge\n",
      "gmp                       6.1.2                hfc679d8_0    conda-forge\n",
      "graphite2                 1.3.11               hfc679d8_0    conda-forge\n",
      "gsl                       2.2.1           blas_openblas_4  [blas_openblas]  conda-forge\n",
      "harfbuzz                  1.8.5                h2bb21d5_0    conda-forge\n",
      "html5lib                  1.0.1                      py_0    conda-forge\n",
      "hyperlink                 17.3.1                     py_0    conda-forge\n",
      "icu                       58.2                 hfc679d8_0    conda-forge\n",
      "idna                      2.7                      py36_2    conda-forge\n",
      "incremental               17.5.0                     py_0    conda-forge\n",
      "ipykernel                 4.8.2                    py36_0    conda-forge\n",
      "ipython                   6.5.0                    py36_0    conda-forge\n",
      "ipython_genutils          0.2.0                      py_1    conda-forge\n",
      "jedi                      0.12.1                   py36_0    conda-forge\n",
      "jinja2                    2.10                       py_1    conda-forge\n",
      "jpeg                      9c                   h470a237_0    conda-forge\n",
      "jsonschema                2.6.0                    py36_1    conda-forge\n",
      "jupyter_client            5.2.3                      py_1    conda-forge\n",
      "jupyter_core              4.4.0                      py_0    conda-forge\n",
      "krb5                      1.14.6                        0    conda-forge\n",
      "libffi                    3.2.1                         3    conda-forge\n",
      "libgcc                    7.2.0                h69d50b8_2  \n",
      "libgcc-ng                 7.2.0                hdf63c60_3  \n",
      "libgfortran               3.0.0                         1    https://repo.anaconda.com/pkgs/free\n",
      "libgfortran-ng            7.2.0                hdf63c60_3  \n",
      "libiconv                  1.15                 h470a237_1    conda-forge\n",
      "libopenblas               0.2.20               h9ac9557_7  \n",
      "libpng                    1.6.35               ha92aebf_0    conda-forge\n",
      "libsodium                 1.0.16                        0    conda-forge\n",
      "libssh2                   1.8.0                h5b517e9_2    conda-forge\n",
      "libstdcxx-ng              7.2.0                hdf63c60_3  \n",
      "libtiff                   4.0.9                he6b73bb_1    conda-forge\n",
      "libuuid                   1.0.3                         1    conda-forge\n",
      "libxcb                    1.13                 h470a237_2    conda-forge\n",
      "libxml2                   2.9.8                h422b904_2    conda-forge\n",
      "markupsafe                1.0                      py36_0    conda-forge\n",
      "mistune                   0.8.3            py36h470a237_2    conda-forge\n",
      "nb_conda                  2.2.1                    py36_0    conda-forge\n",
      "nb_conda_kernels          2.1.1                    py36_1    conda-forge\n",
      "nbconvert                 5.3.1                      py_1    conda-forge\n",
      "nbformat                  4.4.0                      py_1    conda-forge\n",
      "ncurses                   6.1                  hfc679d8_1    conda-forge\n",
      "notebook                  5.6.0                    py36_0    conda-forge\n",
      "numpy                     1.15.0          py36_blas_openblashd3ea46f_200  [blas_openblas]  conda-forge\n",
      "numpy-base                1.14.3           py36h0ea5e3f_1  \n",
      "openblas                  0.2.20                        8    conda-forge\n",
      "openssl                   1.0.2o               h470a237_1    conda-forge\n",
      "pandas                    0.23.4           py36hf8a1672_0    conda-forge\n",
      "pandoc                    2.2.2                         1    conda-forge\n",
      "pandocfilters             1.4.2                      py_1    conda-forge\n",
      "pango                     1.40.14              h9105a7a_2    conda-forge\n",
      "parso                     0.3.1                      py_0    conda-forge\n",
      "pcre                      8.41                 h470a237_2    conda-forge\n",
      "pexpect                   4.6.0                    py36_0    conda-forge\n",
      "pickleshare               0.7.4                    py36_0    conda-forge\n",
      "pip                       18.0                     py36_1    conda-forge\n",
      "pixman                    0.34.0                        2    conda-forge\n",
      "prometheus_client         0.3.0                      py_0    conda-forge\n",
      "prompt_toolkit            1.0.15                   py36_0    conda-forge\n",
      "psutil                    5.4.8            py36h470a237_0    conda-forge\n",
      "pthread-stubs             0.4                  h470a237_1    conda-forge\n",
      "ptyprocess                0.6.0                    py36_0    conda-forge\n",
      "pyasn1                    0.4.4                      py_0    conda-forge\n",
      "pyasn1-modules            0.2.1                      py_0    conda-forge\n",
      "pycparser                 2.18                       py_1    conda-forge\n",
      "pygments                  2.2.0                      py_1    conda-forge\n",
      "pyhamcrest                1.9.0                      py_2    conda-forge\n",
      "pyopenssl                 18.0.0                   py36_0    conda-forge\n",
      "pysocks                   1.7.1            py36h9f0ad1d_1    conda-forge\n",
      "python                    3.6.6                h5001a0f_0    conda-forge\n",
      "python-dateutil           2.7.3                      py_0    conda-forge\n",
      "python_abi                3.6                     1_cp36m    conda-forge\n",
      "pytz                      2018.5                     py_0    conda-forge\n",
      "pyzmq                     17.1.0           py36hae99301_0    conda-forge\n",
      "r-assertthat              0.2.0                  r3.4.1_0    conda-forge\n",
      "r-base                    3.4.1                h4fe35fd_8    conda-forge\n",
      "r-base64enc               0.1_3            r341h470a237_1    conda-forge\n",
      "r-bh                      1.66.0_1               r3.4.1_0    conda-forge\n",
      "r-bindr                   0.1.1                  r3.4.1_0    conda-forge\n",
      "r-bindrcpp                0.2.2            r341h9d2a408_0    conda-forge\n",
      "r-bit                     1.1_12           r341h470a237_1    conda-forge\n",
      "r-bit64                   0.9_5            r341h470a237_1    conda-forge\n",
      "r-blob                    1.1.1                  r3.4.1_0    conda-forge\n",
      "r-cli                     1.0.0                  r3.4.1_0    conda-forge\n",
      "r-crayon                  1.3.4                  r3.4.1_0    conda-forge\n",
      "r-dbi                     1.0.0                    r341_0    conda-forge\n",
      "r-dbplyr                  1.2.2                    r341_0    conda-forge\n",
      "r-digest                  0.6.15           r341h470a237_1    conda-forge\n",
      "r-dplyr                   0.7.6            r341h9d2a408_0    conda-forge\n",
      "r-evaluate                0.10.1                 r3.4.1_0    conda-forge\n",
      "r-glue                    1.3.0            r341h470a237_1    conda-forge\n",
      "r-htmltools               0.3.6            r341hfc679d8_1    conda-forge\n",
      "r-irdisplay               0.4.4                  r3.4.1_0    conda-forge\n",
      "r-irkernel                0.8.12                   r341_0    conda-forge\n",
      "r-jsonlite                1.5              r341h470a237_1    conda-forge\n",
      "r-magrittr                1.5                    r3.4.1_0    conda-forge\n",
      "r-memoise                 1.1.0                  r3.4.1_0    conda-forge\n",
      "r-pbdzmq                  0.3_2                  r3.4.1_0    conda-forge\n",
      "r-pillar                  1.2.2            r341h6115d3f_1    conda-forge\n",
      "r-pkgconfig               2.0.1                  r3.4.1_0    conda-forge\n",
      "r-plogr                   0.2.0            r341h6115d3f_0    conda-forge\n",
      "r-prettyunits             1.0.2                  r3.4.1_0    conda-forge\n",
      "r-purrr                   0.2.4            r341h470a237_1    conda-forge\n",
      "r-r6                      2.2.2                  r3.4.1_0    conda-forge\n",
      "r-rcpp                    0.12.17          r341h9d2a408_1    conda-forge\n",
      "r-repr                    0.15                     r341_0    conda-forge\n",
      "r-rlang                   0.2.1            r341h470a237_1    conda-forge\n",
      "r-rsqlite                 2.0              r341hfc679d8_1    conda-forge\n",
      "r-stringi                 1.2.3            r341hfc679d8_1    conda-forge\n",
      "r-stringr                 1.3.1                    r341_0    conda-forge\n",
      "r-tibble                  1.4.2            r341h470a237_1    conda-forge\n",
      "r-tidyselect              0.2.4            r341hfc679d8_1    conda-forge\n",
      "r-utf8                    1.1.3            r341h470a237_1    conda-forge\n",
      "r-uuid                    0.1_2                    r341_0    conda-forge\n",
      "readline                  7.0                  haf1bffa_1    conda-forge\n",
      "requests                  2.23.0                   py36_0    conda-forge\n",
      "rpy2                      2.9.4           py36r341h24bf2e0_0    conda-forge\n",
      "send2trash                1.5.0                      py_0    conda-forge\n",
      "service_identity          17.0.0                     py_0    conda-forge\n",
      "setuptools                40.0.0                   py36_1    conda-forge\n",
      "simplegeneric             0.8.1                      py_1    conda-forge\n",
      "six                       1.11.0                   py36_1    conda-forge\n",
      "sqlite                    3.24.0               h2f33b56_0    conda-forge\n",
      "tabulate                  0.8.6                      py_0    conda-forge\n",
      "terminado                 0.8.1                    py36_0    conda-forge\n",
      "testpath                  0.3.1                    py36_0    conda-forge\n",
      "tk                        8.6.8                         0    conda-forge\n",
      "tornado                   5.1              py36h470a237_1    conda-forge\n",
      "traitlets                 4.3.2                    py36_0    conda-forge\n",
      "twisted                   18.7.0           py36h14c3975_1  \n",
      "tzlocal                   1.5.1                      py_0    conda-forge\n",
      "urllib3                   1.25.7                   py36_0    conda-forge\n",
      "wcwidth                   0.1.7                      py_1    conda-forge\n",
      "webencodings              0.5                      py36_0    conda-forge\n",
      "wheel                     0.31.1                   py36_1    conda-forge\n",
      "xorg-kbproto              1.0.7                h470a237_2    conda-forge\n",
      "xorg-libice               1.0.9                h470a237_4    conda-forge\n",
      "xorg-libsm                1.2.2                h470a237_5    conda-forge\n",
      "xorg-libx11               1.6.5                h470a237_2    conda-forge\n",
      "xorg-libxau               1.0.8                h470a237_6    conda-forge\n",
      "xorg-libxdmcp             1.1.2                h470a237_7    conda-forge\n",
      "xorg-libxext              1.3.3                h470a237_4    conda-forge\n",
      "xorg-libxrender           0.9.10               h470a237_2    conda-forge\n",
      "xorg-libxt                1.1.5                h470a237_2    conda-forge\n",
      "xorg-renderproto          0.11.1               h470a237_2    conda-forge\n",
      "xorg-xextproto            7.3.0                h470a237_2    conda-forge\n",
      "xorg-xproto               7.0.31               h470a237_7    conda-forge\n",
      "xz                        5.2.4                h470a237_1    conda-forge\n",
      "zeromq                    4.2.5                hfc679d8_5    conda-forge\n",
      "zlib                      1.2.11               h470a237_3    conda-forge\n",
      "zope.interface            4.5.0            py36h470a237_0    conda-forge"
     ]
    },
    {
     "data": {
      "text/plain": [
       "NULL"
      ]
     },
     "metadata": {},
     "output_type": "display_data"
    }
   ],
   "source": [
    "bash_job('conda list', conda_env='py3')"
   ]
  },
  {
   "cell_type": "code",
   "execution_count": 47,
   "metadata": {
    "ExecuteTime": {
     "end_time": "2020-03-27T19:51:03.177558Z",
     "start_time": "2020-03-27T19:50:27.304Z"
    }
   },
   "outputs": [
    {
     "name": "stdout",
     "output_type": "stream",
     "text": [
      "Not a conda environment: /ebio/abt3_projects/Georg_animal_feces/phyloseq\n",
      "# packages in environment at /ebio/abt3_projects/software/miniconda3_gt4.4:\n",
      "#\n",
      "# Name                    Version                   Build  Channel\n",
      "_libgcc_mutex             0.1                        main  \n",
      "_r-mutex                  1.0.0               anacondar_1  \n",
      "appdirs                   1.4.3                      py_1    conda-forge\n",
      "asn1crypto                1.3.0                    py36_0  \n",
      "attrs                     19.3.0                     py_0  \n",
      "automat                   0.7.0                    py36_0    conda-forge\n",
      "backcall                  0.1.0                    py36_0  \n",
      "binutils_impl_linux-64    2.31.1               h6176602_1  \n",
      "binutils_linux-64         2.31.1               h6176602_9  \n",
      "biopython                 1.73                     pypi_0    pypi\n",
      "blas                      1.0                         mkl  \n",
      "bleach                    3.1.0                    py36_0  \n",
      "bwidget                   1.9.11                        1  \n",
      "bzip2                     1.0.8                h7b6447c_0  \n",
      "ca-certificates           2020.1.1                      0  \n",
      "cairo                     1.14.12              h8948797_3  \n",
      "certifi                   2019.11.28               py36_0  \n",
      "cffi                      1.14.0           py36h2e261b9_0  \n",
      "chardet                   3.0.4                 py36_1003  \n",
      "click                     7.0                      pypi_0    pypi\n",
      "coloredlogs               10.0                     pypi_0    pypi\n",
      "colormath                 3.0.0                    pypi_0    pypi\n",
      "conda                     4.8.2                    py36_0  \n",
      "conda-env                 2.6.0                         1    conda-forge\n",
      "conda-package-handling    1.6.0            py36h7b6447c_0  \n",
      "constantly                15.1.0                     py_0    conda-forge\n",
      "cryptography              2.8              py36h1ba5d50_0  \n",
      "cryptography-vectors      2.3                      py36_1    conda-forge\n",
      "curl                      7.65.3               hbc83047_0  \n",
      "cycler                    0.10.0                   pypi_0    pypi\n",
      "dbus                      1.13.12              h746ee38_0  \n",
      "decorator                 4.4.1                      py_0  \n",
      "defusedxml                0.6.0                      py_0  \n",
      "entrypoints               0.3                      py36_0  \n",
      "expat                     2.2.6                he6710b0_0  \n",
      "fontconfig                2.13.0               h9420a91_0  \n",
      "freetype                  2.9.1                h8a8886c_1  \n",
      "fribidi                   1.0.5                h7b6447c_0  \n",
      "future                    0.18.2                   pypi_0    pypi\n",
      "gcc_impl_linux-64         7.3.0                habb00fd_1  \n",
      "gcc_linux-64              7.3.0                h553295d_9  \n",
      "gettext                   0.19.8.1          hc5be6a0_1002    conda-forge\n",
      "gfortran_impl_linux-64    7.3.0                hdf63c60_1  \n",
      "gfortran_linux-64         7.3.0                h553295d_9  \n",
      "glib                      2.63.1               h5a9c865_0  \n",
      "gmp                       6.1.2                h6c8ec71_1  \n",
      "graphite2                 1.3.13               h23475e2_0  \n",
      "gsl                       2.4                  h14c3975_4  \n",
      "gst-plugins-base          1.12.5               hde13a9d_0    conda-forge\n",
      "gstreamer                 1.12.5               h61a6719_0    conda-forge\n",
      "gxx_impl_linux-64         7.3.0                hdf63c60_1  \n",
      "gxx_linux-64              7.3.0                h553295d_9  \n",
      "harfbuzz                  1.8.8                hffaf4a1_0  \n",
      "html5lib                  1.0.1                      py_0    conda-forge\n",
      "humanfriendly             4.18                     pypi_0    pypi\n",
      "humann2                   0.11.2                   pypi_0    pypi\n",
      "hyperlink                 17.3.1                     py_0    conda-forge\n",
      "icu                       58.2                 h9c2bf20_1  \n",
      "idna                      2.8                      py36_0  \n",
      "importlib_metadata        1.5.0                    py36_0  \n",
      "incremental               17.5.0                     py_0    conda-forge\n",
      "ipykernel                 5.1.4            py36h39e3cac_0  \n",
      "ipython                   7.12.0           py36h5ca1d4c_0  \n",
      "ipython_genutils          0.2.0                    py36_0  \n",
      "ipywidgets                7.5.1                      py_0  \n",
      "jedi                      0.16.0                   py36_0  \n",
      "jinja2                    2.11.1                     py_0  \n",
      "jpeg                      9c                h14c3975_1001    conda-forge\n",
      "jsonschema                3.2.0                    py36_0  \n",
      "jupyter                   1.0.0                      py_1    conda-forge\n",
      "jupyter_client            5.3.4                    py36_0  \n",
      "jupyter_console           6.1.0                      py_0  \n",
      "jupyter_contrib_core      0.3.3                      py_2    conda-forge\n",
      "jupyter_contrib_nbextensions 0.5.0                    py36_0    conda-forge\n",
      "jupyter_core              4.6.1                    py36_0  \n",
      "jupyter_highlight_selected_word 0.2.0                 py36_1000    conda-forge\n",
      "jupyter_latex_envs        1.4.4                 py36_1000    conda-forge\n",
      "jupyter_nbextensions_configurator 0.4.1                    py36_0    conda-forge\n",
      "jupyterlab                0.35.4                   py36_0    conda-forge\n",
      "jupyterlab_server         0.2.0                      py_0    conda-forge\n",
      "kiwisolver                1.1.0                    pypi_0    pypi\n",
      "krb5                      1.16.4               h173b8e3_0  \n",
      "ld_impl_linux-64          2.33.1               h53a641e_7    conda-forge\n",
      "libarchive                3.3.3             hc3f970e_1004    conda-forge\n",
      "libblas                   3.8.0               14_openblas    conda-forge\n",
      "libcblas                  3.8.0               14_openblas    conda-forge\n",
      "libcurl                   7.65.3               h20c2e04_0  \n",
      "libedit                   3.1.20181209         hc058e9b_0  \n",
      "libffi                    3.2.1                hd88cf55_4  \n",
      "libgcc                    7.2.0                h69d50b8_2  \n",
      "libgcc-ng                 9.1.0                hdf63c60_0  \n",
      "libgfortran               3.0.0                         1    https://repo.anaconda.com/pkgs/free\n",
      "libgfortran-ng            7.3.0                hdf63c60_0  \n",
      "libiconv                  1.15              h516909a_1005    conda-forge\n",
      "libopenblas               0.3.7                h6e990d7_3    conda-forge\n",
      "libpng                    1.6.37               hbc83047_0  \n",
      "libsodium                 1.0.17               h516909a_0    conda-forge\n",
      "libssh2                   1.8.2                h1ba5d50_0  \n",
      "libstdcxx-ng              9.1.0                hdf63c60_0  \n",
      "libtiff                   4.0.10            h9022e91_1002    conda-forge\n",
      "libuuid                   1.0.3                h1bed415_2  \n",
      "libxcb                    1.13                 h1bed415_1  \n",
      "libxml2                   2.9.9                hea5a465_1  \n",
      "libxslt                   1.1.33               h7d1a2b0_0  \n",
      "lxml                      4.5.0            py36hefd8a0e_0  \n",
      "lz4-c                     1.8.3             he1b5a44_1001    conda-forge\n",
      "lzo                       2.10                 h49e0be7_2  \n",
      "lzstring                  1.0.4                    pypi_0    pypi\n",
      "make                      4.2.1                h1bed415_1  \n",
      "markdown                  3.1.1                    pypi_0    pypi\n",
      "markupsafe                1.1.1            py36h7b6447c_0  \n",
      "matplotlib                3.1.1                    pypi_0    pypi\n",
      "mistune                   0.8.4            py36h7b6447c_0  \n",
      "more-itertools            7.2.0                      py_0    conda-forge\n",
      "multiqc                   1.8                      pypi_0    pypi\n",
      "nb_conda                  2.2.1                    py36_0    conda-forge\n",
      "nb_conda_kernels          2.2.2                    py36_0  \n",
      "nbconvert                 5.6.1                    py36_0  \n",
      "nbformat                  5.0.4                      py_0  \n",
      "ncbi-genome-download      0.2.9                    pypi_0    pypi\n",
      "ncurses                   6.1                  he6710b0_1  \n",
      "networkx                  2.4                      pypi_0    pypi\n",
      "notebook                  6.0.3                    py36_0  \n",
      "numpy                     1.16.2                   pypi_0    pypi\n",
      "openblas                  0.2.20                        8    conda-forge\n",
      "openssl                   1.1.1d               h7b6447c_4  \n",
      "pandas                    0.24.2                   pypi_0    pypi\n",
      "pandoc                    2.2.3.2                       0  \n",
      "pandocfilters             1.4.2                    py36_1  \n",
      "pango                     1.42.4               h049681c_0  \n",
      "parso                     0.6.1                      py_0  \n",
      "pcre                      8.43                 he6710b0_0  \n",
      "pexpect                   4.8.0                    py36_0  \n",
      "pickleshare               0.7.5                    py36_0  \n",
      "pip                       20.0.2                   py36_1  \n",
      "pixman                    0.38.0               h7b6447c_0  \n",
      "prometheus_client         0.7.1                      py_0  \n",
      "prompt_toolkit            3.0.3                      py_0  \n",
      "pthread-stubs             0.4               h14c3975_1001    conda-forge\n",
      "ptyprocess                0.6.0                    py36_0  \n",
      "pyasn1                    0.4.4                      py_0    conda-forge\n",
      "pyasn1-modules            0.2.1                      py_0    conda-forge\n",
      "pycosat                   0.6.3            py36h7b6447c_0  \n",
      "pycparser                 2.19                     py36_0  \n",
      "pygments                  2.5.2                      py_0  \n",
      "pyhamcrest                1.9.0                      py_2    conda-forge\n",
      "pyopenssl                 19.1.0                   py36_0  \n",
      "pyparsing                 2.4.5                    pypi_0    pypi\n",
      "pyqt                      5.9.2            py36h05f1152_2  \n",
      "pyrsistent                0.15.7           py36h7b6447c_0  \n",
      "pysam                     0.15.2                   pypi_0    pypi\n",
      "pysocks                   1.7.1                    py36_0  \n",
      "python                    3.6.8                h0371630_0  \n",
      "python-dateutil           2.8.0                    pypi_0    pypi\n",
      "python-libarchive-c       2.8                   py36_1004    conda-forge\n",
      "pytz                      2018.9                   pypi_0    pypi\n",
      "pyyaml                    5.3              py36h7b6447c_0  \n",
      "pyzmq                     18.1.1           py36he6710b0_0  \n",
      "qt                        5.9.7                h5867ecd_1  \n",
      "qtconsole                 4.6.0                      py_1  \n",
      "r-assertthat              0.2.0                  r3.4.1_0    conda-forge\n",
      "r-backports               1.1.4             r36h96ca727_0  \n",
      "r-base                    3.6.1                h9bb98a2_1  \n",
      "r-base64enc               0.1_3            r341h470a237_1    conda-forge\n",
      "r-bh                      1.66.0_1               r3.4.1_0    conda-forge\n",
      "r-bindr                   0.1.1                  r3.4.1_0    conda-forge\n",
      "r-bindrcpp                0.2.2            r341h9d2a408_0    conda-forge\n",
      "r-bit                     1.1_12           r341h470a237_1    conda-forge\n",
      "r-bit64                   0.9_5            r341h470a237_1    conda-forge\n",
      "r-blob                    1.1.1                  r3.4.1_0    conda-forge\n",
      "r-cli                     1.0.0                  r3.4.1_0    conda-forge\n",
      "r-crayon                  1.3.4                  r3.4.1_0    conda-forge\n",
      "r-dbi                     1.0.0                    r341_0    conda-forge\n",
      "r-dbplyr                  1.2.2                    r341_0    conda-forge\n",
      "r-digest                  0.6.15           r341h470a237_1    conda-forge\n",
      "r-dplyr                   0.7.6            r341h9d2a408_0    conda-forge\n",
      "r-ellipsis                0.3.0             r35hcdcec82_0    conda-forge\n",
      "r-evaluate                0.10.1                 r3.4.1_0    conda-forge\n",
      "r-fansi                   0.4.0             r36h96ca727_0  \n",
      "r-glue                    1.3.0            r341h470a237_1    conda-forge\n",
      "r-htmltools               0.3.6            r341hfc679d8_1    conda-forge\n",
      "r-irdisplay               0.4.4                  r3.4.1_0    conda-forge\n",
      "r-irkernel                0.8.15                    r36_0  \n",
      "r-jsonlite                1.5              r341h470a237_1    conda-forge\n",
      "r-magrittr                1.5                    r3.4.1_0    conda-forge\n",
      "r-memoise                 1.1.0                  r3.4.1_0    conda-forge\n",
      "r-pbdzmq                  0.3_2                  r3.4.1_0    conda-forge\n",
      "r-pillar                  1.2.2            r341h6115d3f_1    conda-forge\n",
      "r-pkgconfig               2.0.1                  r3.4.1_0    conda-forge\n",
      "r-plogr                   0.2.0            r341h6115d3f_0    conda-forge\n",
      "r-prettyunits             1.0.2                  r3.4.1_0    conda-forge\n",
      "r-purrr                   0.2.4            r341h470a237_1    conda-forge\n",
      "r-r6                      2.2.2                  r3.4.1_0    conda-forge\n",
      "r-rcpp                    0.12.17          r341h9d2a408_1    conda-forge\n",
      "r-repr                    0.15                     r341_0    conda-forge\n",
      "r-rlang                   0.2.1            r341h470a237_1    conda-forge\n",
      "r-rsqlite                 2.0              r341hfc679d8_1    conda-forge\n",
      "r-stringi                 1.2.3            r341hfc679d8_1    conda-forge\n",
      "r-stringr                 1.3.1                    r341_0    conda-forge\n",
      "r-tibble                  1.4.2            r341h470a237_1    conda-forge\n",
      "r-tidyselect              0.2.4            r341hfc679d8_1    conda-forge\n",
      "r-utf8                    1.1.3            r341h470a237_1    conda-forge\n",
      "r-uuid                    0.1_2                    r341_0    conda-forge\n",
      "r-vctrs                   0.2.0             r35hcdcec82_1    conda-forge\n",
      "r-zeallot                 0.1.0             r36h6115d3f_0  \n",
      "readline                  7.0                  h7b6447c_5  \n",
      "requests                  2.22.0                   py36_1  \n",
      "rpy2                      2.9.4           py36r36h481b005_0  \n",
      "ruamel_yaml               0.15.87          py36h7b6447c_0  \n",
      "send2trash                1.5.0                    py36_0  \n",
      "service_identity          17.0.0                     py_0    conda-forge\n",
      "setuptools                45.2.0                   py36_0  \n",
      "simplegeneric             0.8.1                      py_1    conda-forge\n",
      "simplejson                3.17.0                   pypi_0    pypi\n",
      "sip                       4.19.8           py36hf484d3e_0  \n",
      "six                       1.14.0                   py36_0  \n",
      "spectra                   0.0.11                   pypi_0    pypi\n",
      "sqlite                    3.31.1               h7b6447c_0  \n",
      "terminado                 0.8.3                    py36_0  \n",
      "testpath                  0.4.4                      py_0  \n",
      "tk                        8.6.8                hbc83047_0  \n",
      "tktable                   2.10                 h14c3975_0  \n",
      "tornado                   6.0.3            py36h7b6447c_3  \n",
      "tqdm                      4.42.1                     py_0  \n",
      "traitlets                 4.3.3                    py36_0  \n",
      "twisted                   18.7.0           py36h14c3975_1  \n",
      "tzlocal                   2.0.0                      py_0    conda-forge\n",
      "urllib3                   1.25.8                   py36_0  \n",
      "wcwidth                   0.1.8                      py_0  \n",
      "webencodings              0.5.1                    py36_1  \n",
      "wheel                     0.34.2                   py36_0  \n",
      "widgetsnbextension        3.5.1                    py36_0  \n",
      "xorg-kbproto              1.0.7             h14c3975_1002    conda-forge\n",
      "xorg-libice               1.0.10               h516909a_0    conda-forge\n",
      "xorg-libsm                1.2.3             h84519dc_1000    conda-forge\n",
      "xorg-libx11               1.6.9                h516909a_0    conda-forge\n",
      "xorg-libxau               1.0.9                h14c3975_0    conda-forge\n",
      "xorg-libxdmcp             1.1.3                h516909a_0    conda-forge\n",
      "xorg-libxext              1.3.4                h516909a_0    conda-forge\n",
      "xorg-libxrender           0.9.10            h516909a_1002    conda-forge\n",
      "xorg-libxt                1.1.5                h470a237_2    conda-forge\n",
      "xorg-renderproto          0.11.1            h14c3975_1002    conda-forge\n",
      "xorg-xextproto            7.3.0             h14c3975_1002    conda-forge\n",
      "xorg-xproto               7.0.31            h14c3975_1007    conda-forge\n",
      "xz                        5.2.4                h14c3975_4  \n",
      "yaml                      0.1.7                had09818_2  \n",
      "zeromq                    4.3.2                he1b5a44_2    conda-forge\n",
      "zipp                      2.2.0                      py_0  \n",
      "zlib                      1.2.11               h7b6447c_3  \n",
      "zope.interface            4.5.0            py36h470a237_0    conda-forge\n",
      "zstd                      1.3.3                h84994c4_0  "
     ]
    },
    {
     "data": {
      "text/plain": [
       "NULL"
      ]
     },
     "metadata": {},
     "output_type": "display_data"
    }
   ],
   "source": [
    "conda_env = '/ebio/abt3_projects/Georg_animal_feces/phyloseq'\n",
    "bash_job('conda list', conda_env=conda_env)"
   ]
  },
  {
   "cell_type": "markdown",
   "metadata": {},
   "source": [
    "## cat_file()\n",
    "\n",
    "* Pretty print a text file"
   ]
  },
  {
   "cell_type": "code",
   "execution_count": 48,
   "metadata": {
    "ExecuteTime": {
     "end_time": "2020-03-27T19:51:03.300771Z",
     "start_time": "2020-03-27T19:50:27.307Z"
    }
   },
   "outputs": [
    {
     "name": "stdout",
     "output_type": "stream",
     "text": [
      "LeyLab R misc\n",
      "==============\n",
      "\n",
      "Misc R functions, rmarkdown templates, etc. for making life a bit easier in the Ley Lab\n",
      "\n",
      "Feel free to contribute! Just clone the repo, make some changes, commit, and create a pull request.\n",
      "\n",
      "# Install\n",
      "\n",
      "## `renv` R package\n",
      "\n",
      "`renv::install(\"leylabmpi/LeyLabRMisc\")`\n",
      "\n",
      "## `devtools` R package\n",
      "\n",
      "`devtools::install_github(\"leylabmpi/LeyLabRMisc\")`\n",
      "\n",
      "## `source()` function\n",
      "\n",
      "* Clone the repo: `git clone git@github.com:leylabmpi/LeyLabRMisc.git`\n",
      "* In your R session, use `source(\"path/to/repo/init.R\")`\n",
      "  * **Note:** you will need to source each `*.R` file individually\n",
      "\n",
      "### Submodules\n",
      "\n",
      "* If this repo will be inside another git repo, then use `git submodule`\n",
      "  * See [this stack overflow post](https://stackoverflow.com/questions/1811730/how-do-i-work-with-a-git-repository-within-another-repository)\n",
      "\n",
      "# Functions\n",
      "\n",
      "* `R/init.R`\n",
      "  * General functions that could be sourced at the start of a Jupyter Notebook or Rmarkdown file\n",
      "* `R/itol.R`\n",
      "  * Functions for creating input files for iTOL\n",
      "* `R/phyloseq.R`\n",
      "  * Helper functions for working with phyloseq\n",
      "\n",
      "# Templates\n",
      "\n",
      "Rmarkdown templates are in `inst/rmarkdown/templates/`\n",
      "\n",
      "To use a template:\n",
      "\n",
      "* Install this package\n",
      "* Restart R\n",
      "* Go to `File => New File => R Markdow ... => From Template`\n",
      "\n",
      "# Examples\n",
      "\n",
      "## Metagenomes\n",
      "\n",
      "### Reading in bracken tables\n",
      "\n",
      "```\n",
      "library(dplyr)\n",
      "library(ggplot2)\n",
      "library(data.table)\n",
      "library(tidytable)\n",
      "library(LeyLabRMisc)\n",
      "# listing files\n",
      "brk_cls_files = list_files(profile_dir, 'all-combined-bracken.tsv') \n",
      "brk_cls_files %>% length\n",
      "# reading tables\n",
      "brk_cls = brk_cls_files %>% file_list(-2) %>%\n",
      "    plyr::llply(read_bracken) %>%\n",
      "    data.table::rbindlist(use.names=TRUE, idcol='dataset')\n",
      "brk_cls\n",
      "```\n",
      "\n",
      "# TODO\n"
     ]
    }
   ],
   "source": [
    "cat_file('/ebio/abt3_projects/software/dev/LeyLabRMisc/README.md')"
   ]
  },
  {
   "cell_type": "markdown",
   "metadata": {},
   "source": [
    "## send_email()\n",
    "\n",
    "* Send yourself an email (username automatically determined)"
   ]
  },
  {
   "cell_type": "code",
   "execution_count": 49,
   "metadata": {
    "ExecuteTime": {
     "end_time": "2020-03-27T19:51:04.345061Z",
     "start_time": "2020-03-27T19:50:27.310Z"
    }
   },
   "outputs": [
    {
     "name": "stderr",
     "output_type": "stream",
     "text": [
      "Sending email to: nyoungblut@tuebingen.mpg.de\n",
      "\n"
     ]
    }
   ],
   "source": [
    "send_email('http://127.0.0.1:9705/notebooks/tmp/ipynb_sandbox/LeyLabRMisc_tutorial.ipynb')"
   ]
  },
  {
   "cell_type": "markdown",
   "metadata": {},
   "source": [
    "## conda_info()\n",
    "\n",
    "* `conda list` on an environment"
   ]
  },
  {
   "cell_type": "code",
   "execution_count": 50,
   "metadata": {
    "ExecuteTime": {
     "end_time": "2020-03-27T19:51:15.346182Z",
     "start_time": "2020-03-27T19:50:27.312Z"
    }
   },
   "outputs": [
    {
     "name": "stdout",
     "output_type": "stream",
     "text": [
      "Not a conda environment: /ebio/abt3_projects/Georg_animal_feces/tidyverse\n",
      "# packages in environment at /ebio/abt3_projects/software/miniconda3_gt4.4:\n",
      "#\n",
      "# Name                    Version                   Build  Channel\n",
      "_libgcc_mutex             0.1                        main  \n",
      "_r-mutex                  1.0.0               anacondar_1  \n",
      "appdirs                   1.4.3                      py_1    conda-forge\n",
      "asn1crypto                1.3.0                    py36_0  \n",
      "attrs                     19.3.0                     py_0  \n",
      "automat                   0.7.0                    py36_0    conda-forge\n",
      "backcall                  0.1.0                    py36_0  \n",
      "binutils_impl_linux-64    2.31.1               h6176602_1  \n",
      "binutils_linux-64         2.31.1               h6176602_9  \n",
      "biopython                 1.73                     pypi_0    pypi\n",
      "blas                      1.0                         mkl  \n",
      "bleach                    3.1.0                    py36_0  \n",
      "bwidget                   1.9.11                        1  \n",
      "bzip2                     1.0.8                h7b6447c_0  \n",
      "ca-certificates           2020.1.1                      0  \n",
      "cairo                     1.14.12              h8948797_3  \n",
      "certifi                   2019.11.28               py36_0  \n",
      "cffi                      1.14.0           py36h2e261b9_0  \n",
      "chardet                   3.0.4                 py36_1003  \n",
      "click                     7.0                      pypi_0    pypi\n",
      "coloredlogs               10.0                     pypi_0    pypi\n",
      "colormath                 3.0.0                    pypi_0    pypi\n",
      "conda                     4.8.2                    py36_0  \n",
      "conda-env                 2.6.0                         1    conda-forge\n",
      "conda-package-handling    1.6.0            py36h7b6447c_0  \n",
      "constantly                15.1.0                     py_0    conda-forge\n",
      "cryptography              2.8              py36h1ba5d50_0  \n",
      "cryptography-vectors      2.3                      py36_1    conda-forge\n",
      "curl                      7.65.3               hbc83047_0  \n",
      "cycler                    0.10.0                   pypi_0    pypi\n",
      "dbus                      1.13.12              h746ee38_0  \n",
      "decorator                 4.4.1                      py_0  \n",
      "defusedxml                0.6.0                      py_0  \n",
      "entrypoints               0.3                      py36_0  \n",
      "expat                     2.2.6                he6710b0_0  \n",
      "fontconfig                2.13.0               h9420a91_0  \n",
      "freetype                  2.9.1                h8a8886c_1  \n",
      "fribidi                   1.0.5                h7b6447c_0  \n",
      "future                    0.18.2                   pypi_0    pypi\n",
      "gcc_impl_linux-64         7.3.0                habb00fd_1  \n",
      "gcc_linux-64              7.3.0                h553295d_9  \n",
      "gettext                   0.19.8.1          hc5be6a0_1002    conda-forge\n",
      "gfortran_impl_linux-64    7.3.0                hdf63c60_1  \n",
      "gfortran_linux-64         7.3.0                h553295d_9  \n",
      "glib                      2.63.1               h5a9c865_0  \n",
      "gmp                       6.1.2                h6c8ec71_1  \n",
      "graphite2                 1.3.13               h23475e2_0  \n",
      "gsl                       2.4                  h14c3975_4  \n",
      "gst-plugins-base          1.12.5               hde13a9d_0    conda-forge\n",
      "gstreamer                 1.12.5               h61a6719_0    conda-forge\n",
      "gxx_impl_linux-64         7.3.0                hdf63c60_1  \n",
      "gxx_linux-64              7.3.0                h553295d_9  \n",
      "harfbuzz                  1.8.8                hffaf4a1_0  \n",
      "html5lib                  1.0.1                      py_0    conda-forge\n",
      "humanfriendly             4.18                     pypi_0    pypi\n",
      "humann2                   0.11.2                   pypi_0    pypi\n",
      "hyperlink                 17.3.1                     py_0    conda-forge\n",
      "icu                       58.2                 h9c2bf20_1  \n",
      "idna                      2.8                      py36_0  \n",
      "importlib_metadata        1.5.0                    py36_0  \n",
      "incremental               17.5.0                     py_0    conda-forge\n",
      "ipykernel                 5.1.4            py36h39e3cac_0  \n",
      "ipython                   7.12.0           py36h5ca1d4c_0  \n",
      "ipython_genutils          0.2.0                    py36_0  \n",
      "ipywidgets                7.5.1                      py_0  \n",
      "jedi                      0.16.0                   py36_0  \n",
      "jinja2                    2.11.1                     py_0  \n",
      "jpeg                      9c                h14c3975_1001    conda-forge\n",
      "jsonschema                3.2.0                    py36_0  \n",
      "jupyter                   1.0.0                      py_1    conda-forge\n",
      "jupyter_client            5.3.4                    py36_0  \n",
      "jupyter_console           6.1.0                      py_0  \n",
      "jupyter_contrib_core      0.3.3                      py_2    conda-forge\n",
      "jupyter_contrib_nbextensions 0.5.0                    py36_0    conda-forge\n",
      "jupyter_core              4.6.1                    py36_0  \n",
      "jupyter_highlight_selected_word 0.2.0                 py36_1000    conda-forge\n",
      "jupyter_latex_envs        1.4.4                 py36_1000    conda-forge\n",
      "jupyter_nbextensions_configurator 0.4.1                    py36_0    conda-forge\n",
      "jupyterlab                0.35.4                   py36_0    conda-forge\n",
      "jupyterlab_server         0.2.0                      py_0    conda-forge\n",
      "kiwisolver                1.1.0                    pypi_0    pypi\n",
      "krb5                      1.16.4               h173b8e3_0  \n",
      "ld_impl_linux-64          2.33.1               h53a641e_7    conda-forge\n",
      "libarchive                3.3.3             hc3f970e_1004    conda-forge\n",
      "libblas                   3.8.0               14_openblas    conda-forge\n",
      "libcblas                  3.8.0               14_openblas    conda-forge\n",
      "libcurl                   7.65.3               h20c2e04_0  \n",
      "libedit                   3.1.20181209         hc058e9b_0  \n",
      "libffi                    3.2.1                hd88cf55_4  \n",
      "libgcc                    7.2.0                h69d50b8_2  \n",
      "libgcc-ng                 9.1.0                hdf63c60_0  \n",
      "libgfortran               3.0.0                         1    https://repo.anaconda.com/pkgs/free\n",
      "libgfortran-ng            7.3.0                hdf63c60_0  \n",
      "libiconv                  1.15              h516909a_1005    conda-forge\n",
      "libopenblas               0.3.7                h6e990d7_3    conda-forge\n",
      "libpng                    1.6.37               hbc83047_0  \n",
      "libsodium                 1.0.17               h516909a_0    conda-forge\n",
      "libssh2                   1.8.2                h1ba5d50_0  \n",
      "libstdcxx-ng              9.1.0                hdf63c60_0  \n",
      "libtiff                   4.0.10            h9022e91_1002    conda-forge\n",
      "libuuid                   1.0.3                h1bed415_2  \n",
      "libxcb                    1.13                 h1bed415_1  \n",
      "libxml2                   2.9.9                hea5a465_1  \n",
      "libxslt                   1.1.33               h7d1a2b0_0  \n",
      "lxml                      4.5.0            py36hefd8a0e_0  \n",
      "lz4-c                     1.8.3             he1b5a44_1001    conda-forge\n",
      "lzo                       2.10                 h49e0be7_2  \n",
      "lzstring                  1.0.4                    pypi_0    pypi\n",
      "make                      4.2.1                h1bed415_1  \n",
      "markdown                  3.1.1                    pypi_0    pypi\n",
      "markupsafe                1.1.1            py36h7b6447c_0  \n",
      "matplotlib                3.1.1                    pypi_0    pypi\n",
      "mistune                   0.8.4            py36h7b6447c_0  \n",
      "more-itertools            7.2.0                      py_0    conda-forge\n",
      "multiqc                   1.8                      pypi_0    pypi\n",
      "nb_conda                  2.2.1                    py36_0    conda-forge\n",
      "nb_conda_kernels          2.2.2                    py36_0  \n",
      "nbconvert                 5.6.1                    py36_0  \n",
      "nbformat                  5.0.4                      py_0  \n",
      "ncbi-genome-download      0.2.9                    pypi_0    pypi\n",
      "ncurses                   6.1                  he6710b0_1  \n",
      "networkx                  2.4                      pypi_0    pypi\n",
      "notebook                  6.0.3                    py36_0  \n",
      "numpy                     1.16.2                   pypi_0    pypi\n",
      "openblas                  0.2.20                        8    conda-forge\n",
      "openssl                   1.1.1d               h7b6447c_4  \n",
      "pandas                    0.24.2                   pypi_0    pypi\n",
      "pandoc                    2.2.3.2                       0  \n",
      "pandocfilters             1.4.2                    py36_1  \n",
      "pango                     1.42.4               h049681c_0  \n",
      "parso                     0.6.1                      py_0  \n",
      "pcre                      8.43                 he6710b0_0  \n",
      "pexpect                   4.8.0                    py36_0  \n",
      "pickleshare               0.7.5                    py36_0  \n",
      "pip                       20.0.2                   py36_1  \n",
      "pixman                    0.38.0               h7b6447c_0  \n",
      "prometheus_client         0.7.1                      py_0  \n",
      "prompt_toolkit            3.0.3                      py_0  \n",
      "pthread-stubs             0.4               h14c3975_1001    conda-forge\n",
      "ptyprocess                0.6.0                    py36_0  \n",
      "pyasn1                    0.4.4                      py_0    conda-forge\n",
      "pyasn1-modules            0.2.1                      py_0    conda-forge\n",
      "pycosat                   0.6.3            py36h7b6447c_0  \n",
      "pycparser                 2.19                     py36_0  \n",
      "pygments                  2.5.2                      py_0  \n",
      "pyhamcrest                1.9.0                      py_2    conda-forge\n",
      "pyopenssl                 19.1.0                   py36_0  \n",
      "pyparsing                 2.4.5                    pypi_0    pypi\n",
      "pyqt                      5.9.2            py36h05f1152_2  \n",
      "pyrsistent                0.15.7           py36h7b6447c_0  \n",
      "pysam                     0.15.2                   pypi_0    pypi\n",
      "pysocks                   1.7.1                    py36_0  \n",
      "python                    3.6.8                h0371630_0  \n",
      "python-dateutil           2.8.0                    pypi_0    pypi\n",
      "python-libarchive-c       2.8                   py36_1004    conda-forge\n",
      "pytz                      2018.9                   pypi_0    pypi\n",
      "pyyaml                    5.3              py36h7b6447c_0  \n",
      "pyzmq                     18.1.1           py36he6710b0_0  \n",
      "qt                        5.9.7                h5867ecd_1  \n",
      "qtconsole                 4.6.0                      py_1  \n",
      "r-assertthat              0.2.0                  r3.4.1_0    conda-forge\n",
      "r-backports               1.1.4             r36h96ca727_0  \n",
      "r-base                    3.6.1                h9bb98a2_1  \n",
      "r-base64enc               0.1_3            r341h470a237_1    conda-forge\n",
      "r-bh                      1.66.0_1               r3.4.1_0    conda-forge\n",
      "r-bindr                   0.1.1                  r3.4.1_0    conda-forge\n",
      "r-bindrcpp                0.2.2            r341h9d2a408_0    conda-forge\n",
      "r-bit                     1.1_12           r341h470a237_1    conda-forge\n",
      "r-bit64                   0.9_5            r341h470a237_1    conda-forge\n",
      "r-blob                    1.1.1                  r3.4.1_0    conda-forge\n",
      "r-cli                     1.0.0                  r3.4.1_0    conda-forge\n",
      "r-crayon                  1.3.4                  r3.4.1_0    conda-forge\n",
      "r-dbi                     1.0.0                    r341_0    conda-forge\n",
      "r-dbplyr                  1.2.2                    r341_0    conda-forge\n",
      "r-digest                  0.6.15           r341h470a237_1    conda-forge\n",
      "r-dplyr                   0.7.6            r341h9d2a408_0    conda-forge\n",
      "r-ellipsis                0.3.0             r35hcdcec82_0    conda-forge\n",
      "r-evaluate                0.10.1                 r3.4.1_0    conda-forge\n",
      "r-fansi                   0.4.0             r36h96ca727_0  \n",
      "r-glue                    1.3.0            r341h470a237_1    conda-forge\n",
      "r-htmltools               0.3.6            r341hfc679d8_1    conda-forge\n",
      "r-irdisplay               0.4.4                  r3.4.1_0    conda-forge\n",
      "r-irkernel                0.8.15                    r36_0  \n",
      "r-jsonlite                1.5              r341h470a237_1    conda-forge\n",
      "r-magrittr                1.5                    r3.4.1_0    conda-forge\n",
      "r-memoise                 1.1.0                  r3.4.1_0    conda-forge\n",
      "r-pbdzmq                  0.3_2                  r3.4.1_0    conda-forge\n",
      "r-pillar                  1.2.2            r341h6115d3f_1    conda-forge\n",
      "r-pkgconfig               2.0.1                  r3.4.1_0    conda-forge\n",
      "r-plogr                   0.2.0            r341h6115d3f_0    conda-forge\n",
      "r-prettyunits             1.0.2                  r3.4.1_0    conda-forge\n",
      "r-purrr                   0.2.4            r341h470a237_1    conda-forge\n",
      "r-r6                      2.2.2                  r3.4.1_0    conda-forge\n",
      "r-rcpp                    0.12.17          r341h9d2a408_1    conda-forge\n",
      "r-repr                    0.15                     r341_0    conda-forge\n",
      "r-rlang                   0.2.1            r341h470a237_1    conda-forge\n",
      "r-rsqlite                 2.0              r341hfc679d8_1    conda-forge\n",
      "r-stringi                 1.2.3            r341hfc679d8_1    conda-forge\n",
      "r-stringr                 1.3.1                    r341_0    conda-forge\n",
      "r-tibble                  1.4.2            r341h470a237_1    conda-forge\n",
      "r-tidyselect              0.2.4            r341hfc679d8_1    conda-forge\n",
      "r-utf8                    1.1.3            r341h470a237_1    conda-forge\n",
      "r-uuid                    0.1_2                    r341_0    conda-forge\n",
      "r-vctrs                   0.2.0             r35hcdcec82_1    conda-forge\n",
      "r-zeallot                 0.1.0             r36h6115d3f_0  \n",
      "readline                  7.0                  h7b6447c_5  \n",
      "requests                  2.22.0                   py36_1  \n",
      "rpy2                      2.9.4           py36r36h481b005_0  \n",
      "ruamel_yaml               0.15.87          py36h7b6447c_0  \n",
      "send2trash                1.5.0                    py36_0  \n",
      "service_identity          17.0.0                     py_0    conda-forge\n",
      "setuptools                45.2.0                   py36_0  \n",
      "simplegeneric             0.8.1                      py_1    conda-forge\n",
      "simplejson                3.17.0                   pypi_0    pypi\n",
      "sip                       4.19.8           py36hf484d3e_0  \n",
      "six                       1.14.0                   py36_0  \n",
      "spectra                   0.0.11                   pypi_0    pypi\n",
      "sqlite                    3.31.1               h7b6447c_0  \n",
      "terminado                 0.8.3                    py36_0  \n",
      "testpath                  0.4.4                      py_0  \n",
      "tk                        8.6.8                hbc83047_0  \n",
      "tktable                   2.10                 h14c3975_0  \n",
      "tornado                   6.0.3            py36h7b6447c_3  \n",
      "tqdm                      4.42.1                     py_0  \n",
      "traitlets                 4.3.3                    py36_0  \n",
      "twisted                   18.7.0           py36h14c3975_1  \n",
      "tzlocal                   2.0.0                      py_0    conda-forge\n",
      "urllib3                   1.25.8                   py36_0  \n",
      "wcwidth                   0.1.8                      py_0  \n",
      "webencodings              0.5.1                    py36_1  \n",
      "wheel                     0.34.2                   py36_0  \n",
      "widgetsnbextension        3.5.1                    py36_0  \n",
      "xorg-kbproto              1.0.7             h14c3975_1002    conda-forge\n",
      "xorg-libice               1.0.10               h516909a_0    conda-forge\n",
      "xorg-libsm                1.2.3             h84519dc_1000    conda-forge\n",
      "xorg-libx11               1.6.9                h516909a_0    conda-forge\n",
      "xorg-libxau               1.0.9                h14c3975_0    conda-forge\n",
      "xorg-libxdmcp             1.1.3                h516909a_0    conda-forge\n",
      "xorg-libxext              1.3.4                h516909a_0    conda-forge\n",
      "xorg-libxrender           0.9.10            h516909a_1002    conda-forge\n",
      "xorg-libxt                1.1.5                h470a237_2    conda-forge\n",
      "xorg-renderproto          0.11.1            h14c3975_1002    conda-forge\n",
      "xorg-xextproto            7.3.0             h14c3975_1002    conda-forge\n",
      "xorg-xproto               7.0.31            h14c3975_1007    conda-forge\n",
      "xz                        5.2.4                h14c3975_4  \n",
      "yaml                      0.1.7                had09818_2  \n",
      "zeromq                    4.3.2                he1b5a44_2    conda-forge\n",
      "zipp                      2.2.0                      py_0  \n",
      "zlib                      1.2.11               h7b6447c_3  \n",
      "zope.interface            4.5.0            py36h470a237_0    conda-forge\n",
      "zstd                      1.3.3                h84994c4_0  "
     ]
    }
   ],
   "source": [
    "conda_env = '/ebio/abt3_projects/Georg_animal_feces/tidyverse'\n",
    "condaInfo(conda_env)"
   ]
  },
  {
   "cell_type": "markdown",
   "metadata": {},
   "source": [
    "## pipelineInfo\n",
    "\n",
    "* basic info about a LL* pipeline"
   ]
  },
  {
   "cell_type": "code",
   "execution_count": 51,
   "metadata": {
    "ExecuteTime": {
     "end_time": "2020-03-27T19:51:15.542729Z",
     "start_time": "2020-03-27T19:50:27.315Z"
    }
   },
   "outputs": [
    {
     "name": "stdout",
     "output_type": "stream",
     "text": [
      "LLA\n",
      "====\n",
      "\n",
      "Ley Lab Genome analysis pipeline (LLG)\n",
      "\n",
      "* Version: 0.1.3\n",
      "* Authors:\n",
      "  * Nick Youngblut <nyoungb2@gmail.com>\n",
      "* Maintainers:\n",
      "  * Nick Youngblut <nyoungb2@gmail.com>\n",
      "\n",
      "--- conda envs ---\n",
      "==> /ebio/abt3_projects/software/dev/llg//bin/envs/gtdbtk.yaml <==\n",
      "channels:\n",
      "- conda-forge\n",
      "- bioconda\n",
      "dependencies:\n",
      "- pigz\n",
      "- bioconda::gtdbtk\n",
      "\n",
      "==> /ebio/abt3_projects/software/dev/llg//bin/envs/checkm.yaml <==\n",
      "channels: !!python/tuple\n",
      "- bioconda\n",
      "dependencies:\n",
      "- python=2.7\n",
      "- pigz\n",
      "- bioconda::prodigal\n",
      "- bioconda::pplacer\n",
      "- bioconda::checkm-genome\n",
      "\n",
      "==> /ebio/abt3_projects/software/dev/llg//bin/envs/quast.yaml <==\n",
      "channels:\n",
      "- conda-forge\n",
      "- bioconda\n",
      "dependencies:\n",
      "- bioconda::seqkit\n",
      "- bioconda::quast=5.0.0\n",
      "\n",
      "==> /ebio/abt3_projects/software/dev/llg//bin/envs/sourmash.yaml <==\n",
      "channels:\n",
      "- conda-forge\n",
      "- bioconda\n",
      "dependencies:\n",
      "- bioconda::sourmash=2.0.0a4\n",
      "\n",
      "==> /ebio/abt3_projects/software/dev/llg//bin/envs/fastqc.yaml <==\n",
      "channels:\n",
      "- conda-forge\n",
      "- bioconda\n",
      "dependencies:\n",
      "- bioconda::seqtk\n",
      "- bioconda::fastqc=0.11.7\n",
      "\n",
      "==> /ebio/abt3_projects/software/dev/llg//bin/envs/multiqc.yaml <==\n",
      "channels:\n",
      "- conda-forge\n",
      "- bioconda\n",
      "dependencies:\n",
      "- bioconda::multiqc=1.4\n",
      "\n",
      "==> /ebio/abt3_projects/software/dev/llg//bin/envs/hadley.yaml <==\n",
      "channels:\n",
      "- conda-forge\n",
      "- bioconda\n",
      "dependencies:\n",
      "- conda-forge::r-ape\n",
      "- conda-forge::r-dplyr\n",
      "- conda-forge::r-tidyr\n",
      "- conda-forge::r-ggplot2\n",
      "\n",
      "==> /ebio/abt3_projects/software/dev/llg//bin/envs/bbmap.yaml <==\n",
      "channels:\n",
      "- conda-forge\n",
      "- bioconda\n",
      "dependencies:\n",
      "- pigz\n",
      "- bioconda::bbmap=37.78\n",
      "\n",
      "==> /ebio/abt3_projects/software/dev/llg//bin/envs/ani.yaml <==\n",
      "channels:\n",
      "- conda-forge\n",
      "- bioconda\n",
      "dependencies:\n",
      "- pigz\n",
      "- bioconda::dashing\n",
      "- bioconda::fastani\n",
      "==> /ebio/abt3_projects/software/dev/llg//bin/envs/prokka.yaml <==\n",
      "channels:\n",
      "- conda-forge\n",
      "- bioconda\n",
      "dependencies:\n",
      "- bioconda::prokka\n",
      "\n",
      "==> /ebio/abt3_projects/software/dev/llg//bin/envs/prodigal.yaml <==\n",
      "channels:\n",
      "- conda-forge\n",
      "- bioconda\n",
      "dependencies:\n",
      "- bioconda::prodigal\n",
      "- pip:\n",
      "  - biopython-convert\n",
      "\n",
      "==> /ebio/abt3_projects/software/dev/llg//bin/envs/eggnog-mapper.yaml <==\n",
      "channels:\n",
      "- conda-forge\n",
      "- bioconda\n",
      "dependencies:\n",
      "- pigz\n",
      "- bioconda::eggnog-mapper\n",
      "\n",
      "==> /ebio/abt3_projects/software/dev/llg//bin/envs/phylophlan.yaml <==\n",
      "channels:\n",
      "- conda-forge\n",
      "- bioconda\n",
      "dependencies:\n",
      "- pigz\n",
      "- numpy\n",
      "- python=3.7\n",
      "- conda-forge::biopython\n",
      "- bioconda::dendropy\n",
      "- bioconda::blast\n",
      "- bioconda::diamond\n",
      "- bioconda::vsearch\n",
      "- bioconda::mafft\n",
      "- bioconda::muscle\n",
      "- bioconda::trimal\n",
      "- bioconda::muscle\n",
      "- bioconda::raxml\n",
      "- bioconda::fasttree\n",
      "\n",
      "==> /ebio/abt3_projects/software/dev/llg//bin/envs/drep.yaml <==\n",
      "channels:\n",
      "- conda-forge\n",
      "- bioconda\n",
      "dependencies:\n",
      "- pigz\n",
      "- bioconda::mash\n",
      "- bioconda::checkm-genome\n",
      "- bioconda::drep\n",
      "==> /ebio/abt3_projects/software/dev/llg//bin/envs/antismash.yaml <==\n",
      "channels:\n",
      "- conda-forge\n",
      "- bioconda\n",
      "dependencies:\n",
      "- pigz\n",
      "- bioconda::antismash>=5.1.2\n",
      "\n",
      "==> /ebio/abt3_projects/software/dev/llg//bin/envs/deepbgc.yaml <==\n",
      "channels:\n",
      "- conda-forge\n",
      "- bioconda\n",
      "dependencies:\n",
      "- pigz\n",
      "- bioconda::deepbgc=0.1.18\n",
      "\n",
      "==> /ebio/abt3_projects/software/dev/llg//bin/envs/abricate.yaml <==\n",
      "channels:\n",
      "- conda-forge\n",
      "- bioconda\n",
      "dependencies:\n",
      "- bioconda::abricate\n",
      "\n",
      "==> /ebio/abt3_projects/software/dev/llg//bin/envs/rRNA.yaml <==\n",
      "channels:\n",
      "- qiime2/label/r2020.2\n",
      "- conda-forge\n",
      "- bioconda\n",
      "- defaults\n",
      "dependencies:\n",
      "- barrnap\n",
      "- _libgcc_mutex=0.1\n",
      "- _openmp_mutex=4.5\n",
      "- _r-mutex=1.0.1\n",
      "- alsa-lib=1.1.5\n",
      "- arb-bio-tools=6.0.6\n",
      "- attrs=19.3.0\n",
      "- backcall=0.1.0\n",
      "- bibtexparser=1.1.0\n",
      "- binutils_impl_linux-64=2.33.1\n",
      "- binutils_linux-64=2.33.1\n",
      "- bioconductor-biobase=2.42.0\n",
      "- bioconductor-biocgenerics=0.28.0\n",
      "- bioconductor-biocparallel=1.16.6\n",
      "- bioconductor-biostrings=2.50.2\n",
      "- bioconductor-dada2=1.10.0\n",
      "- bioconductor-delayedarray=0.8.0\n",
      "- bioconductor-genomeinfodb=1.18.1\n",
      "- bioconductor-genomeinfodbdata=1.2.1\n",
      "- bioconductor-genomicalignments=1.18.1\n",
      "- bioconductor-genomicranges=1.34.0\n",
      "- bioconductor-iranges=2.16.0\n",
      "- bioconductor-rsamtools=1.34.0\n",
      "- bioconductor-s4vectors=0.20.1\n",
      "- bioconductor-shortread=1.40.0\n",
      "- bioconductor-summarizedexperiment=1.12.0\n",
      "- bioconductor-xvector=0.22.0\n",
      "- bioconductor-zlibbioc=1.28.0\n",
      "- biom-format=2.1.8\n",
      "- blas=2.14\n",
      "- blast=2.9.0\n",
      "- bleach=3.1.1\n",
      "- bokeh=1.4.0\n",
      "- boost=1.68.0\n",
      "- boost-cpp=1.68.0\n",
      "- bwidget=1.9.14\n",
      "- bzip2=1.0.8\n",
      "- ca-certificates=2019.11.28\n",
      "- cachecontrol=0.12.5\n",
      "- cairo=1.16.0\n",
      "- certifi=2019.11.28\n",
      "- cffi=1.13.2\n",
      "- chardet=3.0.4\n",
      "- click=7.0\n",
      "- cryptography=2.8\n",
      "- curl=7.68.0\n",
      "- cutadapt=2.8\n",
      "- cycler=0.10.0\n",
      "- cython=0.29.15\n",
      "- dbus=1.13.6\n",
      "- deblur=1.1.0\n",
      "- decorator=4.4.1\n",
      "- defusedxml=0.6.0\n",
      "- dendropy=4.4.0\n",
      "- dnaio=0.4.1\n",
      "- emperor=1.0.0\n",
      "- entrypoints=0.3\n",
      "- expat=2.2.9\n",
      "- fastcluster=1.1.26\n",
      "- fasttree=2.1.10\n",
      "- fontconfig=2.13.1\n",
      "- freetype=2.10.0\n",
      "- future=0.18.2\n",
      "- gcc_impl_linux-64=7.3.0\n",
      "- gcc_linux-64=7.3.0\n",
      "- gettext=0.19.8.1\n",
      "- gfortran_impl_linux-64=7.3.0\n",
      "- gfortran_linux-64=7.3.0\n",
      "- giflib=5.2.1\n",
      "- glib=2.58.3\n",
      "- gmp=6.2.0\n",
      "- gneiss=0.4.6\n",
      "- gnutls=3.6.5\n",
      "- graphite2=1.3.13\n",
      "- gsl=2.5\n",
      "- gst-plugins-base=1.14.5\n",
      "- gstreamer=1.14.5\n",
      "- gxx_impl_linux-64=7.3.0\n",
      "- gxx_linux-64=7.3.0\n",
      "- h5py=2.10.0\n",
      "- harfbuzz=2.4.0\n",
      "- hdf5=1.10.5\n",
      "- hdmedians=0.13\n",
      "- hmmer=3.1b2\n",
      "- icu=58.2\n",
      "- idna=2.9\n",
      "- ijson=2.6.1\n",
      "- importlib_metadata=1.5.0\n",
      "- ipykernel=5.1.4\n",
      "- ipython=7.12.0\n",
      "- ipython_genutils=0.2.0\n",
      "- ipywidgets=7.5.1\n",
      "- iqtree=1.6.12\n",
      "- jedi=0.16.0\n",
      "- jinja2=2.11.1\n",
      "- joblib=0.14.1\n",
      "- jpeg=9c\n",
      "- jsonschema=3.2.0\n",
      "- jupyter_client=6.0.0\n",
      "- jupyter_core=4.6.3\n",
      "- kiwisolver=1.1.0\n",
      "- krb5=1.16.4\n",
      "- lcms2=2.9\n",
      "- ld_impl_linux-64=2.33.1\n",
      "- libarbdb=6.0.6\n",
      "- libblas=3.8.0\n",
      "- libcblas=3.8.0\n",
      "- libcurl=7.68.0\n",
      "- libedit=3.1.20170329\n",
      "- libffi=3.2.1\n",
      "- libgcc=7.2.0\n",
      "- libgcc-ng=9.2.0\n",
      "- libgfortran-ng=7.3.0\n",
      "- libgomp=9.2.0\n",
      "- libiconv=1.15\n",
      "- liblapack=3.8.0\n",
      "- liblapacke=3.8.0\n",
      "- libopenblas=0.3.7\n",
      "- libpng=1.6.37\n",
      "- libsodium=1.0.17\n",
      "- libssh2=1.8.2\n",
      "- libstdcxx-ng=9.2.0\n",
      "- libtiff=4.1.0\n",
      "- libuuid=2.32.1\n",
      "- libxcb=1.13\n",
      "- libxml2=2.9.9\n",
      "- lockfile=0.12.2\n",
      "- lz4-c=1.8.3\n",
      "- mafft=7.310\n",
      "- make=4.3\n",
      "- markupsafe=1.1.1\n",
      "- matplotlib=3.1.1\n",
      "- matplotlib-base=3.1.1\n",
      "- mistune=0.8.4\n",
      "- more-itertools=8.2.0\n",
      "- msgpack-python=1.0.0\n",
      "- natsort=7.0.1\n",
      "- nbconvert=5.6.1\n",
      "- nbformat=5.0.4\n",
      "- ncurses=6.1\n",
      "- nettle=3.4.1\n",
      "- networkx=2.4\n",
      "- nose=1.3.7\n",
      "- notebook=6.0.3\n",
      "- numpy=1.18.1\n",
      "- olefile=0.46\n",
      "- openjdk=11.0.1\n",
      "- openssl=1.1.1d\n",
      "- packaging=20.1\n",
      "- pandas=0.25.3\n",
      "- pandoc=2.9.2\n",
      "- pandocfilters=1.4.2\n",
      "- pango=1.40.14\n",
      "- parso=0.6.1\n",
      "- patsy=0.5.1\n",
      "- pcre=8.44\n",
      "- perl=5.26.2\n",
      "- perl-archive-tar=2.32\n",
      "- perl-carp=1.38\n",
      "- perl-common-sense=3.74\n",
      "- perl-compress-raw-bzip2=2.087\n",
      "- perl-compress-raw-zlib=2.087\n",
      "- perl-exporter=5.72\n",
      "- perl-exporter-tiny=1.002001\n",
      "- perl-extutils-makemaker=7.36\n",
      "- perl-io-compress=2.087\n",
      "- perl-io-zlib=1.10\n",
      "- perl-json=4.02\n",
      "- perl-json-xs=2.34\n",
      "- perl-list-moreutils=0.428\n",
      "- perl-list-moreutils-xs=0.428\n",
      "- perl-pathtools=3.75\n",
      "- perl-scalar-list-utils=1.52\n",
      "- perl-types-serialiser=1.0\n",
      "- perl-xsloader=0.24\n",
      "- pexpect=4.8.0\n",
      "- pickleshare=0.7.5\n",
      "- pigz=2.3.4\n",
      "- pillow=7.0.0\n",
      "- pip=20.0.2\n",
      "- pixman=0.38.0\n",
      "- pluggy=0.12.0\n",
      "- prometheus_client=0.7.1\n",
      "- prompt_toolkit=3.0.3\n",
      "- psutil=5.7.0\n",
      "- pthread-stubs=0.4\n",
      "- ptyprocess=0.6.0\n",
      "- py=1.8.1\n",
      "- pycparser=2.19\n",
      "- pygments=2.5.2\n",
      "- pyopenssl=19.1.0\n",
      "- pyparsing=2.4.6\n",
      "- pyqt=5.9.2\n",
      "- pyrsistent=0.15.7\n",
      "- pysocks=1.7.1\n",
      "- pytest=5.3.5\n",
      "- python=3.6.7\n",
      "- python-dateutil=2.8.1\n",
      "- pytz=2019.3\n",
      "- pyyaml=5.3\n",
      "- pyzmq=19.0.0\n",
      "- q2-alignment=2020.2.0\n",
      "- q2-composition=2020.2.0\n",
      "- q2-cutadapt=2020.2.0\n",
      "- q2-dada2=2020.2.0\n",
      "- q2-deblur=2020.2.0\n",
      "- q2-demux=2020.2.0\n",
      "- q2-diversity=2020.2.0\n",
      "- q2-emperor=2020.2.0\n",
      "- q2-feature-classifier=2020.2.0\n",
      "- q2-feature-table=2020.2.0\n",
      "- q2-fragment-insertion=2020.2.0\n",
      "- q2-gneiss=2020.2.0\n",
      "- q2-longitudinal=2020.2.0\n",
      "- q2-metadata=2020.2.0\n",
      "- q2-phylogeny=2020.2.0\n",
      "- q2-quality-control=2020.2.0\n",
      "- q2-quality-filter=2020.2.0\n",
      "- q2-sample-classifier=2020.2.0\n",
      "- q2-taxa=2020.2.0\n",
      "- q2-types=2020.2.0\n",
      "- q2-vsearch=2020.2.0\n",
      "- q2cli=2020.2.0\n",
      "- q2templates=2020.2.0\n",
      "- qiime2=2020.2.0\n",
      "- qt=5.9.7\n",
      "- r-assertthat=0.2.1\n",
      "- r-backports=1.1.5\n",
      "- r-base=3.5.1\n",
      "- r-bh=1.72.0_3\n",
      "- r-bitops=1.0_6\n",
      "- r-cli=2.0.2\n",
      "- r-cluster=2.1.0\n",
      "- r-colorspace=1.4_1\n",
      "- r-crayon=1.3.4\n",
      "- r-data.table=1.12.6\n",
      "- r-digest=0.6.25\n",
      "- r-ellipsis=0.3.0\n",
      "- r-fansi=0.4.1\n",
      "- r-farver=2.0.3\n",
      "- r-formatr=1.7\n",
      "- r-futile.logger=1.4.3\n",
      "- r-futile.options=1.0.1\n",
      "- r-ggplot2=3.2.1\n",
      "- r-glue=1.3.1\n",
      "- r-gtable=0.3.0\n",
      "- r-hwriter=1.3.2\n",
      "- r-labeling=0.3\n",
      "- r-lambda.r=1.2.4\n",
      "- r-lattice=0.20_40\n",
      "- r-latticeextra=0.6_28\n",
      "- r-lazyeval=0.2.2\n",
      "- r-lifecycle=0.1.0\n",
      "- r-magrittr=1.5\n",
      "- r-mass=7.3_51.5\n",
      "- r-matrix=1.2_18\n",
      "- r-matrixstats=0.55.0\n",
      "- r-mgcv=1.8_31\n",
      "- r-munsell=0.5.0\n",
      "- r-nlme=3.1_144\n",
      "- r-permute=0.9_5\n",
      "- r-pillar=1.4.3\n",
      "- r-pkgconfig=2.0.3\n",
      "- r-plyr=1.8.5\n",
      "- r-r6=2.4.1\n",
      "- r-rcolorbrewer=1.1_2\n",
      "- r-rcpp=1.0.3\n",
      "- r-rcppparallel=4.4.4\n",
      "- r-rcurl=1.98_1.1\n",
      "- r-reshape2=1.4.3\n",
      "- r-rlang=0.4.4\n",
      "- r-scales=1.1.0\n",
      "- r-snow=0.4_3\n",
      "- r-stringi=1.4.3\n",
      "- r-stringr=1.4.0\n",
      "- r-tibble=2.1.3\n",
      "- r-utf8=1.1.4\n",
      "- r-vctrs=0.2.3\n",
      "- r-vegan=2.5_6\n",
      "- r-viridislite=0.3.0\n",
      "- r-withr=2.1.2\n",
      "- r-zeallot=0.1.0\n",
      "- raxml=8.2.12\n",
      "- readline=8.0\n",
      "- requests=2.23.0\n",
      "- scikit-bio=0.5.5\n",
      "- scikit-learn=0.22.1\n",
      "- scipy=1.4.1\n",
      "- seaborn=0.10.0\n",
      "- send2trash=1.5.0\n",
      "- sepp=4.3.10\n",
      "- setuptools=45.2.0\n",
      "- sina=1.6.0\n",
      "- sip=4.19.8\n",
      "- six=1.14.0\n",
      "- sortmerna=2.0\n",
      "- sqlite=3.30.1\n",
      "- statsmodels=0.11.1\n",
      "- tbb=2019.9\n",
      "- terminado=0.8.3\n",
      "- testpath=0.4.4\n",
      "- tk=8.6.10\n",
      "- tktable=2.10\n",
      "- tornado=6.0.3\n",
      "- traitlets=4.3.3\n",
      "- tzlocal=2.0.0\n",
      "- unifrac=0.10.0\n",
      "- urllib3=1.25.7\n",
      "- vsearch=2.7.0\n",
      "- wcwidth=0.1.8\n",
      "- webencodings=0.5.1\n",
      "- wheel=0.34.2\n",
      "- widgetsnbextension=3.5.1\n",
      "- xopen=0.8.4\n",
      "- xorg-fixesproto=5.0\n",
      "- xorg-inputproto=2.3.2\n",
      "- xorg-kbproto=1.0.7\n",
      "- xorg-libice=1.0.10\n",
      "- xorg-libsm=1.2.3\n",
      "- xorg-libx11=1.6.9\n",
      "- xorg-libxau=1.0.9\n",
      "- xorg-libxdmcp=1.1.3\n",
      "- xorg-libxext=1.3.4\n",
      "- xorg-libxfixes=5.0.3\n",
      "- xorg-libxi=1.7.10\n",
      "- xorg-libxrender=0.9.10\n",
      "- xorg-libxtst=1.2.3\n",
      "- xorg-recordproto=1.14.2\n",
      "- xorg-renderproto=0.11.1\n",
      "- xorg-xextproto=7.3.0\n",
      "- xorg-xproto=7.0.31\n",
      "- xz=5.2.4\n",
      "- yaml=0.2.2\n",
      "- zeromq=4.3.2\n",
      "- zipp=3.0.0\n",
      "- zlib=1.2.11\n",
      "- zstd=1.4.4\n",
      "==> /ebio/abt3_projects/software/dev/llg//bin/envs/traitar.yaml <==\n",
      "channels:\n",
      "- conda-forge\n",
      "- bioconda\n",
      "dependencies:\n",
      "- scipy\n",
      "- pandas\n",
      "- numpy\n",
      "- matplotlib\n",
      "- pigz\n",
      "- bioconda::hmmer\n",
      "- pip:\n",
      "  - traitar3>=0.1.1"
     ]
    }
   ],
   "source": [
    "pipelineInfo('/ebio/abt3_projects/software/dev/llg/')"
   ]
  },
  {
   "cell_type": "markdown",
   "metadata": {},
   "source": [
    "# sessionInfo"
   ]
  },
  {
   "cell_type": "code",
   "execution_count": 52,
   "metadata": {
    "ExecuteTime": {
     "end_time": "2020-03-27T19:51:15.599222Z",
     "start_time": "2020-03-27T19:50:27.318Z"
    }
   },
   "outputs": [
    {
     "data": {
      "text/plain": [
       "R version 3.6.2 (2019-12-12)\n",
       "Platform: x86_64-conda_cos6-linux-gnu (64-bit)\n",
       "Running under: Ubuntu 18.04.3 LTS\n",
       "\n",
       "Matrix products: default\n",
       "BLAS/LAPACK: /ebio/abt3_projects/Georg_animal_feces/envs/tidyverse/lib/libopenblasp-r0.3.7.so\n",
       "\n",
       "locale:\n",
       " [1] LC_CTYPE=en_US.UTF-8       LC_NUMERIC=C              \n",
       " [3] LC_TIME=en_US.UTF-8        LC_COLLATE=en_US.UTF-8    \n",
       " [5] LC_MONETARY=en_US.UTF-8    LC_MESSAGES=en_US.UTF-8   \n",
       " [7] LC_PAPER=en_US.UTF-8       LC_NAME=C                 \n",
       " [9] LC_ADDRESS=C               LC_TELEPHONE=C            \n",
       "[11] LC_MEASUREMENT=en_US.UTF-8 LC_IDENTIFICATION=C       \n",
       "\n",
       "attached base packages:\n",
       "[1] stats     graphics  grDevices utils     datasets  methods   base     \n",
       "\n",
       "other attached packages:\n",
       "[1] LeyLabRMisc_0.1.3 tidytable_0.3.2   data.table_1.12.8 ggplot2_3.2.1    \n",
       "[5] tidyr_1.0.0       dplyr_0.8.3      \n",
       "\n",
       "loaded via a namespace (and not attached):\n",
       " [1] Rcpp_1.0.3       pillar_1.4.3     compiler_3.6.2   base64enc_0.1-3 \n",
       " [5] tools_3.6.2      zeallot_0.1.0    digest_0.6.23    uuid_0.1-2      \n",
       " [9] jsonlite_1.6     evaluate_0.14    tibble_2.1.3     lifecycle_0.1.0 \n",
       "[13] gtable_0.3.0     pkgconfig_2.0.3  rlang_0.4.2      IRdisplay_0.7.0 \n",
       "[17] IRkernel_1.1     repr_1.0.2       withr_2.1.2      vctrs_0.2.1     \n",
       "[21] grid_3.6.2       tidyselect_0.2.5 glue_1.3.1       R6_2.4.1        \n",
       "[25] pbdZMQ_0.3-3     farver_2.0.2     purrr_0.3.3      magrittr_1.5    \n",
       "[29] backports_1.1.5  scales_1.1.0     htmltools_0.4.0  assertthat_0.2.1\n",
       "[33] colorspace_1.4-1 labeling_0.3     lazyeval_0.2.2   munsell_0.5.0   \n",
       "[37] crayon_1.3.4    "
      ]
     },
     "metadata": {},
     "output_type": "display_data"
    }
   ],
   "source": [
    "sessionInfo()"
   ]
  },
  {
   "cell_type": "code",
   "execution_count": null,
   "metadata": {},
   "outputs": [],
   "source": []
  }
 ],
 "metadata": {
  "kernelspec": {
   "display_name": "R [conda env:Georg_animal_feces-tidyverse]",
   "language": "R",
   "name": "conda-env-Georg_animal_feces-tidyverse-r"
  },
  "language_info": {
   "codemirror_mode": "r",
   "file_extension": ".r",
   "mimetype": "text/x-r-source",
   "name": "R",
   "pygments_lexer": "r",
   "version": "3.6.2"
  },
  "notify_time": "30",
  "toc": {
   "base_numbering": 1,
   "nav_menu": {},
   "number_sections": true,
   "sideBar": true,
   "skip_h1_title": false,
   "title_cell": "Table of Contents",
   "title_sidebar": "Contents",
   "toc_cell": true,
   "toc_position": {},
   "toc_section_display": true,
   "toc_window_display": false
  }
 },
 "nbformat": 4,
 "nbformat_minor": 2
}
